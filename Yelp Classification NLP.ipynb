{
 "cells": [
  {
   "cell_type": "code",
   "execution_count": 1,
   "id": "398480f0-7109-49ec-8f8d-84dcd639b968",
   "metadata": {},
   "outputs": [],
   "source": [
    "import json\n",
    "import pandas as pd\n",
    "\n",
    "# Specify the path to the JSON file\n",
    "data_file_path = 'C:/Users/kondr/Downloads/yelp_academic_dataset_review.json/yelp_academic_dataset_review.json'\n",
    "\n",
    "# List to store JSON objects\n",
    "data = []\n",
    "\n",
    "# Open the JSON file and read each line\n",
    "with open(data_file_path, 'r', encoding='utf-8') as data_file:\n",
    "    for line in data_file:\n",
    "        try:\n",
    "            # Load each line as a JSON object and append to the data list\n",
    "            data.append(json.loads(line))\n",
    "        except json.JSONDecodeError as e:\n",
    "            print(f\"Error decoding JSON: {e}\")\n",
    "\n",
    "# Create a DataFrame from the list of JSON objects\n",
    "checkin_df = pd.DataFrame(data)\n"
   ]
  },
  {
   "cell_type": "code",
   "execution_count": 2,
   "id": "763e1d88-ada6-40de-bb2b-19ce785962c4",
   "metadata": {},
   "outputs": [
    {
     "data": {
      "text/html": [
       "<div>\n",
       "<style scoped>\n",
       "    .dataframe tbody tr th:only-of-type {\n",
       "        vertical-align: middle;\n",
       "    }\n",
       "\n",
       "    .dataframe tbody tr th {\n",
       "        vertical-align: top;\n",
       "    }\n",
       "\n",
       "    .dataframe thead th {\n",
       "        text-align: right;\n",
       "    }\n",
       "</style>\n",
       "<table border=\"1\" class=\"dataframe\">\n",
       "  <thead>\n",
       "    <tr style=\"text-align: right;\">\n",
       "      <th></th>\n",
       "      <th>review_id</th>\n",
       "      <th>user_id</th>\n",
       "      <th>business_id</th>\n",
       "      <th>stars</th>\n",
       "      <th>useful</th>\n",
       "      <th>funny</th>\n",
       "      <th>cool</th>\n",
       "      <th>text</th>\n",
       "      <th>date</th>\n",
       "    </tr>\n",
       "  </thead>\n",
       "  <tbody>\n",
       "    <tr>\n",
       "      <th>0</th>\n",
       "      <td>KU_O5udG6zpxOg-VcAEodg</td>\n",
       "      <td>mh_-eMZ6K5RLWhZyISBhwA</td>\n",
       "      <td>XQfwVwDr-v0ZS3_CbbE5Xw</td>\n",
       "      <td>3.0</td>\n",
       "      <td>0</td>\n",
       "      <td>0</td>\n",
       "      <td>0</td>\n",
       "      <td>If you decide to eat here, just be aware it is...</td>\n",
       "      <td>2018-07-07 22:09:11</td>\n",
       "    </tr>\n",
       "    <tr>\n",
       "      <th>1</th>\n",
       "      <td>BiTunyQ73aT9WBnpR9DZGw</td>\n",
       "      <td>OyoGAe7OKpv6SyGZT5g77Q</td>\n",
       "      <td>7ATYjTIgM3jUlt4UM3IypQ</td>\n",
       "      <td>5.0</td>\n",
       "      <td>1</td>\n",
       "      <td>0</td>\n",
       "      <td>1</td>\n",
       "      <td>I've taken a lot of spin classes over the year...</td>\n",
       "      <td>2012-01-03 15:28:18</td>\n",
       "    </tr>\n",
       "    <tr>\n",
       "      <th>2</th>\n",
       "      <td>saUsX_uimxRlCVr67Z4Jig</td>\n",
       "      <td>8g_iMtfSiwikVnbP2etR0A</td>\n",
       "      <td>YjUWPpI6HXG530lwP-fb2A</td>\n",
       "      <td>3.0</td>\n",
       "      <td>0</td>\n",
       "      <td>0</td>\n",
       "      <td>0</td>\n",
       "      <td>Family diner. Had the buffet. Eclectic assortm...</td>\n",
       "      <td>2014-02-05 20:30:30</td>\n",
       "    </tr>\n",
       "    <tr>\n",
       "      <th>3</th>\n",
       "      <td>AqPFMleE6RsU23_auESxiA</td>\n",
       "      <td>_7bHUi9Uuf5__HHc_Q8guQ</td>\n",
       "      <td>kxX2SOes4o-D3ZQBkiMRfA</td>\n",
       "      <td>5.0</td>\n",
       "      <td>1</td>\n",
       "      <td>0</td>\n",
       "      <td>1</td>\n",
       "      <td>Wow!  Yummy, different,  delicious.   Our favo...</td>\n",
       "      <td>2015-01-04 00:01:03</td>\n",
       "    </tr>\n",
       "    <tr>\n",
       "      <th>4</th>\n",
       "      <td>Sx8TMOWLNuJBWer-0pcmoA</td>\n",
       "      <td>bcjbaE6dDog4jkNY91ncLQ</td>\n",
       "      <td>e4Vwtrqf-wpJfwesgvdgxQ</td>\n",
       "      <td>4.0</td>\n",
       "      <td>1</td>\n",
       "      <td>0</td>\n",
       "      <td>1</td>\n",
       "      <td>Cute interior and owner (?) gave us tour of up...</td>\n",
       "      <td>2017-01-14 20:54:15</td>\n",
       "    </tr>\n",
       "    <tr>\n",
       "      <th>...</th>\n",
       "      <td>...</td>\n",
       "      <td>...</td>\n",
       "      <td>...</td>\n",
       "      <td>...</td>\n",
       "      <td>...</td>\n",
       "      <td>...</td>\n",
       "      <td>...</td>\n",
       "      <td>...</td>\n",
       "      <td>...</td>\n",
       "    </tr>\n",
       "    <tr>\n",
       "      <th>6990275</th>\n",
       "      <td>H0RIamZu0B0Ei0P4aeh3sQ</td>\n",
       "      <td>qskILQ3k0I_qcCMI-k6_QQ</td>\n",
       "      <td>jals67o91gcrD4DC81Vk6w</td>\n",
       "      <td>5.0</td>\n",
       "      <td>1</td>\n",
       "      <td>2</td>\n",
       "      <td>1</td>\n",
       "      <td>Latest addition to services from ICCU is Apple...</td>\n",
       "      <td>2014-12-17 21:45:20</td>\n",
       "    </tr>\n",
       "    <tr>\n",
       "      <th>6990276</th>\n",
       "      <td>shTPgbgdwTHSuU67mGCmZQ</td>\n",
       "      <td>Zo0th2m8Ez4gLSbHftiQvg</td>\n",
       "      <td>2vLksaMmSEcGbjI5gywpZA</td>\n",
       "      <td>5.0</td>\n",
       "      <td>2</td>\n",
       "      <td>1</td>\n",
       "      <td>2</td>\n",
       "      <td>This spot offers a great, affordable east week...</td>\n",
       "      <td>2021-03-31 16:55:10</td>\n",
       "    </tr>\n",
       "    <tr>\n",
       "      <th>6990277</th>\n",
       "      <td>YNfNhgZlaaCO5Q_YJR4rEw</td>\n",
       "      <td>mm6E4FbCMwJmb7kPDZ5v2Q</td>\n",
       "      <td>R1khUUxidqfaJmcpmGd4aw</td>\n",
       "      <td>4.0</td>\n",
       "      <td>1</td>\n",
       "      <td>0</td>\n",
       "      <td>0</td>\n",
       "      <td>This Home Depot won me over when I needed to g...</td>\n",
       "      <td>2019-12-30 03:56:30</td>\n",
       "    </tr>\n",
       "    <tr>\n",
       "      <th>6990278</th>\n",
       "      <td>i-I4ZOhoX70Nw5H0FwrQUA</td>\n",
       "      <td>YwAMC-jvZ1fvEUum6QkEkw</td>\n",
       "      <td>Rr9kKArrMhSLVE9a53q-aA</td>\n",
       "      <td>5.0</td>\n",
       "      <td>1</td>\n",
       "      <td>0</td>\n",
       "      <td>0</td>\n",
       "      <td>For when I'm feeling like ignoring my calorie-...</td>\n",
       "      <td>2022-01-19 18:59:27</td>\n",
       "    </tr>\n",
       "    <tr>\n",
       "      <th>6990279</th>\n",
       "      <td>RwcKOdEuLRHNJe4M9-qpqg</td>\n",
       "      <td>6JehEvdoCvZPJ_XIxnzIIw</td>\n",
       "      <td>VAeEXLbEcI9Emt9KGYq9aA</td>\n",
       "      <td>3.0</td>\n",
       "      <td>10</td>\n",
       "      <td>3</td>\n",
       "      <td>7</td>\n",
       "      <td>Located in the 'Walking District' in Nashville...</td>\n",
       "      <td>2018-01-02 22:50:47</td>\n",
       "    </tr>\n",
       "  </tbody>\n",
       "</table>\n",
       "<p>6990280 rows × 9 columns</p>\n",
       "</div>"
      ],
      "text/plain": [
       "                      review_id                 user_id  \\\n",
       "0        KU_O5udG6zpxOg-VcAEodg  mh_-eMZ6K5RLWhZyISBhwA   \n",
       "1        BiTunyQ73aT9WBnpR9DZGw  OyoGAe7OKpv6SyGZT5g77Q   \n",
       "2        saUsX_uimxRlCVr67Z4Jig  8g_iMtfSiwikVnbP2etR0A   \n",
       "3        AqPFMleE6RsU23_auESxiA  _7bHUi9Uuf5__HHc_Q8guQ   \n",
       "4        Sx8TMOWLNuJBWer-0pcmoA  bcjbaE6dDog4jkNY91ncLQ   \n",
       "...                         ...                     ...   \n",
       "6990275  H0RIamZu0B0Ei0P4aeh3sQ  qskILQ3k0I_qcCMI-k6_QQ   \n",
       "6990276  shTPgbgdwTHSuU67mGCmZQ  Zo0th2m8Ez4gLSbHftiQvg   \n",
       "6990277  YNfNhgZlaaCO5Q_YJR4rEw  mm6E4FbCMwJmb7kPDZ5v2Q   \n",
       "6990278  i-I4ZOhoX70Nw5H0FwrQUA  YwAMC-jvZ1fvEUum6QkEkw   \n",
       "6990279  RwcKOdEuLRHNJe4M9-qpqg  6JehEvdoCvZPJ_XIxnzIIw   \n",
       "\n",
       "                    business_id  stars  useful  funny  cool  \\\n",
       "0        XQfwVwDr-v0ZS3_CbbE5Xw    3.0       0      0     0   \n",
       "1        7ATYjTIgM3jUlt4UM3IypQ    5.0       1      0     1   \n",
       "2        YjUWPpI6HXG530lwP-fb2A    3.0       0      0     0   \n",
       "3        kxX2SOes4o-D3ZQBkiMRfA    5.0       1      0     1   \n",
       "4        e4Vwtrqf-wpJfwesgvdgxQ    4.0       1      0     1   \n",
       "...                         ...    ...     ...    ...   ...   \n",
       "6990275  jals67o91gcrD4DC81Vk6w    5.0       1      2     1   \n",
       "6990276  2vLksaMmSEcGbjI5gywpZA    5.0       2      1     2   \n",
       "6990277  R1khUUxidqfaJmcpmGd4aw    4.0       1      0     0   \n",
       "6990278  Rr9kKArrMhSLVE9a53q-aA    5.0       1      0     0   \n",
       "6990279  VAeEXLbEcI9Emt9KGYq9aA    3.0      10      3     7   \n",
       "\n",
       "                                                      text  \\\n",
       "0        If you decide to eat here, just be aware it is...   \n",
       "1        I've taken a lot of spin classes over the year...   \n",
       "2        Family diner. Had the buffet. Eclectic assortm...   \n",
       "3        Wow!  Yummy, different,  delicious.   Our favo...   \n",
       "4        Cute interior and owner (?) gave us tour of up...   \n",
       "...                                                    ...   \n",
       "6990275  Latest addition to services from ICCU is Apple...   \n",
       "6990276  This spot offers a great, affordable east week...   \n",
       "6990277  This Home Depot won me over when I needed to g...   \n",
       "6990278  For when I'm feeling like ignoring my calorie-...   \n",
       "6990279  Located in the 'Walking District' in Nashville...   \n",
       "\n",
       "                        date  \n",
       "0        2018-07-07 22:09:11  \n",
       "1        2012-01-03 15:28:18  \n",
       "2        2014-02-05 20:30:30  \n",
       "3        2015-01-04 00:01:03  \n",
       "4        2017-01-14 20:54:15  \n",
       "...                      ...  \n",
       "6990275  2014-12-17 21:45:20  \n",
       "6990276  2021-03-31 16:55:10  \n",
       "6990277  2019-12-30 03:56:30  \n",
       "6990278  2022-01-19 18:59:27  \n",
       "6990279  2018-01-02 22:50:47  \n",
       "\n",
       "[6990280 rows x 9 columns]"
      ]
     },
     "execution_count": 2,
     "metadata": {},
     "output_type": "execute_result"
    }
   ],
   "source": [
    "checkin_df"
   ]
  },
  {
   "cell_type": "code",
   "execution_count": 3,
   "id": "99e5da9a-2168-495a-bbce-441ccaee6008",
   "metadata": {},
   "outputs": [
    {
     "name": "stdout",
     "output_type": "stream",
     "text": [
      "<class 'pandas.core.frame.DataFrame'>\n",
      "RangeIndex: 6990280 entries, 0 to 6990279\n",
      "Data columns (total 9 columns):\n",
      " #   Column       Dtype  \n",
      "---  ------       -----  \n",
      " 0   review_id    object \n",
      " 1   user_id      object \n",
      " 2   business_id  object \n",
      " 3   stars        float64\n",
      " 4   useful       int64  \n",
      " 5   funny        int64  \n",
      " 6   cool         int64  \n",
      " 7   text         object \n",
      " 8   date         object \n",
      "dtypes: float64(1), int64(3), object(5)\n",
      "memory usage: 480.0+ MB\n"
     ]
    }
   ],
   "source": [
    "checkin_df.info()"
   ]
  },
  {
   "cell_type": "code",
   "execution_count": 4,
   "id": "fab90bd7-b0f3-43ad-8b26-866b3e201c43",
   "metadata": {},
   "outputs": [],
   "source": [
    "yelp_data = checkin_df.sample(n=15000)"
   ]
  },
  {
   "cell_type": "code",
   "execution_count": 5,
   "id": "261a42cd-254f-4e85-a40a-f0192d5bd68f",
   "metadata": {},
   "outputs": [
    {
     "name": "stdout",
     "output_type": "stream",
     "text": [
      "<class 'pandas.core.frame.DataFrame'>\n",
      "Index: 15000 entries, 2926379 to 294070\n",
      "Data columns (total 9 columns):\n",
      " #   Column       Non-Null Count  Dtype  \n",
      "---  ------       --------------  -----  \n",
      " 0   review_id    15000 non-null  object \n",
      " 1   user_id      15000 non-null  object \n",
      " 2   business_id  15000 non-null  object \n",
      " 3   stars        15000 non-null  float64\n",
      " 4   useful       15000 non-null  int64  \n",
      " 5   funny        15000 non-null  int64  \n",
      " 6   cool         15000 non-null  int64  \n",
      " 7   text         15000 non-null  object \n",
      " 8   date         15000 non-null  object \n",
      "dtypes: float64(1), int64(3), object(5)\n",
      "memory usage: 1.1+ MB\n"
     ]
    }
   ],
   "source": [
    "yelp_data.info()"
   ]
  },
  {
   "cell_type": "code",
   "execution_count": 6,
   "id": "ca5e99e2-4494-40b8-a43a-49d778e3d7e5",
   "metadata": {},
   "outputs": [
    {
     "data": {
      "text/plain": [
       "2926379    False\n",
       "228258     False\n",
       "4868818    False\n",
       "4105080    False\n",
       "1029162    False\n",
       "           ...  \n",
       "5926077    False\n",
       "136026     False\n",
       "2168380    False\n",
       "2826906    False\n",
       "294070     False\n",
       "Length: 15000, dtype: bool"
      ]
     },
     "execution_count": 6,
     "metadata": {},
     "output_type": "execute_result"
    }
   ],
   "source": [
    "yelp_data.duplicated()"
   ]
  },
  {
   "cell_type": "code",
   "execution_count": 7,
   "id": "0f4bcd8c-65f3-4e41-94be-acd8b5511357",
   "metadata": {},
   "outputs": [],
   "source": [
    "yelp_data.reset_index(inplace=True)"
   ]
  },
  {
   "cell_type": "code",
   "execution_count": 8,
   "id": "68095a23-8281-4afc-bbc3-2c18bc88c4cc",
   "metadata": {},
   "outputs": [
    {
     "data": {
      "text/plain": [
       "stars\n",
       "5.0    6919\n",
       "4.0    3213\n",
       "1.0    2306\n",
       "3.0    1454\n",
       "2.0    1108\n",
       "Name: count, dtype: int64"
      ]
     },
     "execution_count": 8,
     "metadata": {},
     "output_type": "execute_result"
    }
   ],
   "source": [
    "yelp_data.stars.value_counts()"
   ]
  },
  {
   "cell_type": "code",
   "execution_count": 9,
   "id": "e8bf1e1c-ddc2-485e-913b-857b1b8855b1",
   "metadata": {},
   "outputs": [
    {
     "data": {
      "text/html": [
       "<div>\n",
       "<style scoped>\n",
       "    .dataframe tbody tr th:only-of-type {\n",
       "        vertical-align: middle;\n",
       "    }\n",
       "\n",
       "    .dataframe tbody tr th {\n",
       "        vertical-align: top;\n",
       "    }\n",
       "\n",
       "    .dataframe thead th {\n",
       "        text-align: right;\n",
       "    }\n",
       "</style>\n",
       "<table border=\"1\" class=\"dataframe\">\n",
       "  <thead>\n",
       "    <tr style=\"text-align: right;\">\n",
       "      <th></th>\n",
       "      <th>index</th>\n",
       "      <th>review_id</th>\n",
       "      <th>user_id</th>\n",
       "      <th>business_id</th>\n",
       "      <th>stars</th>\n",
       "      <th>useful</th>\n",
       "      <th>funny</th>\n",
       "      <th>cool</th>\n",
       "      <th>text</th>\n",
       "      <th>date</th>\n",
       "    </tr>\n",
       "  </thead>\n",
       "  <tbody>\n",
       "    <tr>\n",
       "      <th>0</th>\n",
       "      <td>2926379</td>\n",
       "      <td>-7oFWYyYDiEmdiYQinUkLw</td>\n",
       "      <td>HdoKOqkrUMppENbz1W6LPQ</td>\n",
       "      <td>SQf5H-fDeS623sXXeVYO0Q</td>\n",
       "      <td>4.0</td>\n",
       "      <td>1</td>\n",
       "      <td>0</td>\n",
       "      <td>1</td>\n",
       "      <td>First time here and the girl working the count...</td>\n",
       "      <td>2013-07-16 20:25:16</td>\n",
       "    </tr>\n",
       "    <tr>\n",
       "      <th>1</th>\n",
       "      <td>228258</td>\n",
       "      <td>XI0C8QSg0auNJWEE73Cang</td>\n",
       "      <td>MS7M4wI8RWvhlLjMb1retg</td>\n",
       "      <td>tvbFcYCEQWc76CUK-nBw8w</td>\n",
       "      <td>4.0</td>\n",
       "      <td>0</td>\n",
       "      <td>0</td>\n",
       "      <td>0</td>\n",
       "      <td>Great authentic Korean food! You can also expe...</td>\n",
       "      <td>2017-07-07 00:47:31</td>\n",
       "    </tr>\n",
       "    <tr>\n",
       "      <th>2</th>\n",
       "      <td>4868818</td>\n",
       "      <td>4OMMRc-bExE0GygkKDl9xg</td>\n",
       "      <td>BaVAIYKYSSEMT5_sXRiwLg</td>\n",
       "      <td>8P8HIysyyGbG8_94cG1Jyg</td>\n",
       "      <td>5.0</td>\n",
       "      <td>0</td>\n",
       "      <td>0</td>\n",
       "      <td>1</td>\n",
       "      <td>I really enjoyed Entrée BYOB when my friends a...</td>\n",
       "      <td>2015-04-02 18:03:34</td>\n",
       "    </tr>\n",
       "    <tr>\n",
       "      <th>3</th>\n",
       "      <td>4105080</td>\n",
       "      <td>KyVh-bEaJjuMV02U_rYQlg</td>\n",
       "      <td>7vig5BGy88pF1b7XPPU5XQ</td>\n",
       "      <td>uEK-Aa80e2BZLw-UNKO77w</td>\n",
       "      <td>1.0</td>\n",
       "      <td>1</td>\n",
       "      <td>3</td>\n",
       "      <td>2</td>\n",
       "      <td>After a decade, this place has not gotten any ...</td>\n",
       "      <td>2020-03-11 04:52:41</td>\n",
       "    </tr>\n",
       "    <tr>\n",
       "      <th>4</th>\n",
       "      <td>1029162</td>\n",
       "      <td>kJz7xcC47k2QAztsSSCowQ</td>\n",
       "      <td>5V7KVw14awQ6ceBSToBhWw</td>\n",
       "      <td>745k3sqcSEQeCNPj799u9w</td>\n",
       "      <td>5.0</td>\n",
       "      <td>0</td>\n",
       "      <td>0</td>\n",
       "      <td>0</td>\n",
       "      <td>No matter what people say, I still love this p...</td>\n",
       "      <td>2019-09-17 04:17:39</td>\n",
       "    </tr>\n",
       "  </tbody>\n",
       "</table>\n",
       "</div>"
      ],
      "text/plain": [
       "     index               review_id                 user_id  \\\n",
       "0  2926379  -7oFWYyYDiEmdiYQinUkLw  HdoKOqkrUMppENbz1W6LPQ   \n",
       "1   228258  XI0C8QSg0auNJWEE73Cang  MS7M4wI8RWvhlLjMb1retg   \n",
       "2  4868818  4OMMRc-bExE0GygkKDl9xg  BaVAIYKYSSEMT5_sXRiwLg   \n",
       "3  4105080  KyVh-bEaJjuMV02U_rYQlg  7vig5BGy88pF1b7XPPU5XQ   \n",
       "4  1029162  kJz7xcC47k2QAztsSSCowQ  5V7KVw14awQ6ceBSToBhWw   \n",
       "\n",
       "              business_id  stars  useful  funny  cool  \\\n",
       "0  SQf5H-fDeS623sXXeVYO0Q    4.0       1      0     1   \n",
       "1  tvbFcYCEQWc76CUK-nBw8w    4.0       0      0     0   \n",
       "2  8P8HIysyyGbG8_94cG1Jyg    5.0       0      0     1   \n",
       "3  uEK-Aa80e2BZLw-UNKO77w    1.0       1      3     2   \n",
       "4  745k3sqcSEQeCNPj799u9w    5.0       0      0     0   \n",
       "\n",
       "                                                text                 date  \n",
       "0  First time here and the girl working the count...  2013-07-16 20:25:16  \n",
       "1  Great authentic Korean food! You can also expe...  2017-07-07 00:47:31  \n",
       "2  I really enjoyed Entrée BYOB when my friends a...  2015-04-02 18:03:34  \n",
       "3  After a decade, this place has not gotten any ...  2020-03-11 04:52:41  \n",
       "4  No matter what people say, I still love this p...  2019-09-17 04:17:39  "
      ]
     },
     "execution_count": 9,
     "metadata": {},
     "output_type": "execute_result"
    }
   ],
   "source": [
    "yelp_data.head()"
   ]
  },
  {
   "cell_type": "code",
   "execution_count": 10,
   "id": "8b56e695-5a28-48c4-a3f3-4266bbf6f771",
   "metadata": {},
   "outputs": [
    {
     "data": {
      "text/plain": [
       "'No matter what people say, I still love this place. In my opinion, it\\'s more authentic than Dong Phuong. Love \"Nem nuong Khanh Hoa\" and \"Bun rieu\", the best. Their \"com tam suon bi cha\" is also good.'"
      ]
     },
     "execution_count": 10,
     "metadata": {},
     "output_type": "execute_result"
    }
   ],
   "source": [
    "yelp_data.text[4]"
   ]
  },
  {
   "cell_type": "code",
   "execution_count": 11,
   "id": "b0ef9192-f957-4ca1-a0c9-76561b9c0736",
   "metadata": {},
   "outputs": [
    {
     "data": {
      "text/plain": [
       "5.0"
      ]
     },
     "execution_count": 11,
     "metadata": {},
     "output_type": "execute_result"
    }
   ],
   "source": [
    "yelp_data.stars[1499]"
   ]
  },
  {
   "cell_type": "code",
   "execution_count": 12,
   "id": "cb90e62c-ca16-485e-8ede-f2464d7a1ad2",
   "metadata": {},
   "outputs": [],
   "source": [
    "yelp_data['length'] = yelp_data['text'].apply(len)"
   ]
  },
  {
   "cell_type": "code",
   "execution_count": 13,
   "id": "fd184c4d-0b08-46e8-bb6b-afb440a9ded4",
   "metadata": {},
   "outputs": [
    {
     "data": {
      "text/html": [
       "<div>\n",
       "<style scoped>\n",
       "    .dataframe tbody tr th:only-of-type {\n",
       "        vertical-align: middle;\n",
       "    }\n",
       "\n",
       "    .dataframe tbody tr th {\n",
       "        vertical-align: top;\n",
       "    }\n",
       "\n",
       "    .dataframe thead th {\n",
       "        text-align: right;\n",
       "    }\n",
       "</style>\n",
       "<table border=\"1\" class=\"dataframe\">\n",
       "  <thead>\n",
       "    <tr style=\"text-align: right;\">\n",
       "      <th></th>\n",
       "      <th>index</th>\n",
       "      <th>review_id</th>\n",
       "      <th>user_id</th>\n",
       "      <th>business_id</th>\n",
       "      <th>stars</th>\n",
       "      <th>useful</th>\n",
       "      <th>funny</th>\n",
       "      <th>cool</th>\n",
       "      <th>text</th>\n",
       "      <th>date</th>\n",
       "      <th>length</th>\n",
       "    </tr>\n",
       "  </thead>\n",
       "  <tbody>\n",
       "    <tr>\n",
       "      <th>0</th>\n",
       "      <td>2926379</td>\n",
       "      <td>-7oFWYyYDiEmdiYQinUkLw</td>\n",
       "      <td>HdoKOqkrUMppENbz1W6LPQ</td>\n",
       "      <td>SQf5H-fDeS623sXXeVYO0Q</td>\n",
       "      <td>4.0</td>\n",
       "      <td>1</td>\n",
       "      <td>0</td>\n",
       "      <td>1</td>\n",
       "      <td>First time here and the girl working the count...</td>\n",
       "      <td>2013-07-16 20:25:16</td>\n",
       "      <td>634</td>\n",
       "    </tr>\n",
       "    <tr>\n",
       "      <th>1</th>\n",
       "      <td>228258</td>\n",
       "      <td>XI0C8QSg0auNJWEE73Cang</td>\n",
       "      <td>MS7M4wI8RWvhlLjMb1retg</td>\n",
       "      <td>tvbFcYCEQWc76CUK-nBw8w</td>\n",
       "      <td>4.0</td>\n",
       "      <td>0</td>\n",
       "      <td>0</td>\n",
       "      <td>0</td>\n",
       "      <td>Great authentic Korean food! You can also expe...</td>\n",
       "      <td>2017-07-07 00:47:31</td>\n",
       "      <td>167</td>\n",
       "    </tr>\n",
       "    <tr>\n",
       "      <th>2</th>\n",
       "      <td>4868818</td>\n",
       "      <td>4OMMRc-bExE0GygkKDl9xg</td>\n",
       "      <td>BaVAIYKYSSEMT5_sXRiwLg</td>\n",
       "      <td>8P8HIysyyGbG8_94cG1Jyg</td>\n",
       "      <td>5.0</td>\n",
       "      <td>0</td>\n",
       "      <td>0</td>\n",
       "      <td>1</td>\n",
       "      <td>I really enjoyed Entrée BYOB when my friends a...</td>\n",
       "      <td>2015-04-02 18:03:34</td>\n",
       "      <td>832</td>\n",
       "    </tr>\n",
       "    <tr>\n",
       "      <th>3</th>\n",
       "      <td>4105080</td>\n",
       "      <td>KyVh-bEaJjuMV02U_rYQlg</td>\n",
       "      <td>7vig5BGy88pF1b7XPPU5XQ</td>\n",
       "      <td>uEK-Aa80e2BZLw-UNKO77w</td>\n",
       "      <td>1.0</td>\n",
       "      <td>1</td>\n",
       "      <td>3</td>\n",
       "      <td>2</td>\n",
       "      <td>After a decade, this place has not gotten any ...</td>\n",
       "      <td>2020-03-11 04:52:41</td>\n",
       "      <td>739</td>\n",
       "    </tr>\n",
       "    <tr>\n",
       "      <th>4</th>\n",
       "      <td>1029162</td>\n",
       "      <td>kJz7xcC47k2QAztsSSCowQ</td>\n",
       "      <td>5V7KVw14awQ6ceBSToBhWw</td>\n",
       "      <td>745k3sqcSEQeCNPj799u9w</td>\n",
       "      <td>5.0</td>\n",
       "      <td>0</td>\n",
       "      <td>0</td>\n",
       "      <td>0</td>\n",
       "      <td>No matter what people say, I still love this p...</td>\n",
       "      <td>2019-09-17 04:17:39</td>\n",
       "      <td>199</td>\n",
       "    </tr>\n",
       "    <tr>\n",
       "      <th>...</th>\n",
       "      <td>...</td>\n",
       "      <td>...</td>\n",
       "      <td>...</td>\n",
       "      <td>...</td>\n",
       "      <td>...</td>\n",
       "      <td>...</td>\n",
       "      <td>...</td>\n",
       "      <td>...</td>\n",
       "      <td>...</td>\n",
       "      <td>...</td>\n",
       "      <td>...</td>\n",
       "    </tr>\n",
       "    <tr>\n",
       "      <th>14995</th>\n",
       "      <td>5926077</td>\n",
       "      <td>bJ_sDHQ8iXcNDxRrlGUm3g</td>\n",
       "      <td>yLT2ZQ0yv9oyfrQo-6hd0w</td>\n",
       "      <td>jq_77IrVM9Bmoj4AoWnpFA</td>\n",
       "      <td>5.0</td>\n",
       "      <td>3</td>\n",
       "      <td>0</td>\n",
       "      <td>0</td>\n",
       "      <td>Beyond amazing!  I was greeted with enthusiast...</td>\n",
       "      <td>2018-11-14 03:31:44</td>\n",
       "      <td>506</td>\n",
       "    </tr>\n",
       "    <tr>\n",
       "      <th>14996</th>\n",
       "      <td>136026</td>\n",
       "      <td>TLVy0qLYSkcKAyIl1elh6A</td>\n",
       "      <td>1k4GFvMYN6678nhe8eGqlA</td>\n",
       "      <td>GlYN-RJyL_YwxIqsSDo1ag</td>\n",
       "      <td>4.0</td>\n",
       "      <td>5</td>\n",
       "      <td>0</td>\n",
       "      <td>0</td>\n",
       "      <td>Mother Hubbard's-what a find! The menu is huge...</td>\n",
       "      <td>2012-10-16 01:47:48</td>\n",
       "      <td>683</td>\n",
       "    </tr>\n",
       "    <tr>\n",
       "      <th>14997</th>\n",
       "      <td>2168380</td>\n",
       "      <td>lZFiV2UOyrvEMiYrT8Mhjw</td>\n",
       "      <td>pcFRf6MkT6-B4W7v4F-lhA</td>\n",
       "      <td>hPmbL4VRqWXJAmcIGoLovg</td>\n",
       "      <td>5.0</td>\n",
       "      <td>1</td>\n",
       "      <td>0</td>\n",
       "      <td>1</td>\n",
       "      <td>We went here on a Monday evening after the kid...</td>\n",
       "      <td>2016-11-23 02:33:38</td>\n",
       "      <td>547</td>\n",
       "    </tr>\n",
       "    <tr>\n",
       "      <th>14998</th>\n",
       "      <td>2826906</td>\n",
       "      <td>1s8zBT5n0FnamDKcFQiARA</td>\n",
       "      <td>KslSSA161kbD4jAyD5VSow</td>\n",
       "      <td>RGXb-3iUuaORNWB_nt_RcQ</td>\n",
       "      <td>5.0</td>\n",
       "      <td>0</td>\n",
       "      <td>0</td>\n",
       "      <td>0</td>\n",
       "      <td>Absolutely incredible food. Everything we ate ...</td>\n",
       "      <td>2018-05-19 14:45:42</td>\n",
       "      <td>107</td>\n",
       "    </tr>\n",
       "    <tr>\n",
       "      <th>14999</th>\n",
       "      <td>294070</td>\n",
       "      <td>4ktFK5voKCuRgLSgzz8xOw</td>\n",
       "      <td>Oni7sgv6mhx1VDT5faKiMA</td>\n",
       "      <td>eMiN8nm70jjKg8izikVWDA</td>\n",
       "      <td>5.0</td>\n",
       "      <td>0</td>\n",
       "      <td>0</td>\n",
       "      <td>0</td>\n",
       "      <td>This is my second favorite Chickie's location ...</td>\n",
       "      <td>2013-08-02 15:26:39</td>\n",
       "      <td>398</td>\n",
       "    </tr>\n",
       "  </tbody>\n",
       "</table>\n",
       "<p>15000 rows × 11 columns</p>\n",
       "</div>"
      ],
      "text/plain": [
       "         index               review_id                 user_id  \\\n",
       "0      2926379  -7oFWYyYDiEmdiYQinUkLw  HdoKOqkrUMppENbz1W6LPQ   \n",
       "1       228258  XI0C8QSg0auNJWEE73Cang  MS7M4wI8RWvhlLjMb1retg   \n",
       "2      4868818  4OMMRc-bExE0GygkKDl9xg  BaVAIYKYSSEMT5_sXRiwLg   \n",
       "3      4105080  KyVh-bEaJjuMV02U_rYQlg  7vig5BGy88pF1b7XPPU5XQ   \n",
       "4      1029162  kJz7xcC47k2QAztsSSCowQ  5V7KVw14awQ6ceBSToBhWw   \n",
       "...        ...                     ...                     ...   \n",
       "14995  5926077  bJ_sDHQ8iXcNDxRrlGUm3g  yLT2ZQ0yv9oyfrQo-6hd0w   \n",
       "14996   136026  TLVy0qLYSkcKAyIl1elh6A  1k4GFvMYN6678nhe8eGqlA   \n",
       "14997  2168380  lZFiV2UOyrvEMiYrT8Mhjw  pcFRf6MkT6-B4W7v4F-lhA   \n",
       "14998  2826906  1s8zBT5n0FnamDKcFQiARA  KslSSA161kbD4jAyD5VSow   \n",
       "14999   294070  4ktFK5voKCuRgLSgzz8xOw  Oni7sgv6mhx1VDT5faKiMA   \n",
       "\n",
       "                  business_id  stars  useful  funny  cool  \\\n",
       "0      SQf5H-fDeS623sXXeVYO0Q    4.0       1      0     1   \n",
       "1      tvbFcYCEQWc76CUK-nBw8w    4.0       0      0     0   \n",
       "2      8P8HIysyyGbG8_94cG1Jyg    5.0       0      0     1   \n",
       "3      uEK-Aa80e2BZLw-UNKO77w    1.0       1      3     2   \n",
       "4      745k3sqcSEQeCNPj799u9w    5.0       0      0     0   \n",
       "...                       ...    ...     ...    ...   ...   \n",
       "14995  jq_77IrVM9Bmoj4AoWnpFA    5.0       3      0     0   \n",
       "14996  GlYN-RJyL_YwxIqsSDo1ag    4.0       5      0     0   \n",
       "14997  hPmbL4VRqWXJAmcIGoLovg    5.0       1      0     1   \n",
       "14998  RGXb-3iUuaORNWB_nt_RcQ    5.0       0      0     0   \n",
       "14999  eMiN8nm70jjKg8izikVWDA    5.0       0      0     0   \n",
       "\n",
       "                                                    text                 date  \\\n",
       "0      First time here and the girl working the count...  2013-07-16 20:25:16   \n",
       "1      Great authentic Korean food! You can also expe...  2017-07-07 00:47:31   \n",
       "2      I really enjoyed Entrée BYOB when my friends a...  2015-04-02 18:03:34   \n",
       "3      After a decade, this place has not gotten any ...  2020-03-11 04:52:41   \n",
       "4      No matter what people say, I still love this p...  2019-09-17 04:17:39   \n",
       "...                                                  ...                  ...   \n",
       "14995  Beyond amazing!  I was greeted with enthusiast...  2018-11-14 03:31:44   \n",
       "14996  Mother Hubbard's-what a find! The menu is huge...  2012-10-16 01:47:48   \n",
       "14997  We went here on a Monday evening after the kid...  2016-11-23 02:33:38   \n",
       "14998  Absolutely incredible food. Everything we ate ...  2018-05-19 14:45:42   \n",
       "14999  This is my second favorite Chickie's location ...  2013-08-02 15:26:39   \n",
       "\n",
       "       length  \n",
       "0         634  \n",
       "1         167  \n",
       "2         832  \n",
       "3         739  \n",
       "4         199  \n",
       "...       ...  \n",
       "14995     506  \n",
       "14996     683  \n",
       "14997     547  \n",
       "14998     107  \n",
       "14999     398  \n",
       "\n",
       "[15000 rows x 11 columns]"
      ]
     },
     "execution_count": 13,
     "metadata": {},
     "output_type": "execute_result"
    }
   ],
   "source": [
    "yelp_data"
   ]
  },
  {
   "cell_type": "code",
   "execution_count": 14,
   "id": "3923aad3-0574-4894-9074-e6a6fdcd5808",
   "metadata": {},
   "outputs": [
    {
     "data": {
      "text/plain": [
       "<Axes: ylabel='Frequency'>"
      ]
     },
     "execution_count": 14,
     "metadata": {},
     "output_type": "execute_result"
    },
    {
     "data": {
      "image/png": "[encoded data removed]",
      "text/plain": [
       "<Figure size 640x480 with 1 Axes>"
      ]
     },
     "metadata": {},
     "output_type": "display_data"
    }
   ],
   "source": [
    "yelp_data['length'].plot(bins=100,kind='hist')"
   ]
  },
  {
   "cell_type": "code",
   "execution_count": 15,
   "id": "c96868fc-f42f-4c93-a355-cfa2b1a69a26",
   "metadata": {},
   "outputs": [
    {
     "data": {
      "text/plain": [
       "count    15000.000000\n",
       "mean       573.101800\n",
       "std        533.854104\n",
       "min         11.000000\n",
       "25%        228.000000\n",
       "50%        412.000000\n",
       "75%        733.000000\n",
       "max       4999.000000\n",
       "Name: length, dtype: float64"
      ]
     },
     "execution_count": 15,
     "metadata": {},
     "output_type": "execute_result"
    }
   ],
   "source": [
    "yelp_data.length.describe()"
   ]
  },
  {
   "cell_type": "code",
   "execution_count": 16,
   "id": "acaf5079-bb6a-4861-a1df-7ba0b4666156",
   "metadata": {
    "scrolled": true
   },
   "outputs": [
    {
     "data": {
      "text/plain": [
       "<Axes: xlabel='count', ylabel='stars'>"
      ]
     },
     "execution_count": 16,
     "metadata": {},
     "output_type": "execute_result"
    },
    {
     "data": {
      "image/png": "[encoded data removed]",
      "text/plain": [
       "<Figure size 640x480 with 1 Axes>"
      ]
     },
     "metadata": {},
     "output_type": "display_data"
    }
   ],
   "source": [
    "import seaborn as sns\n",
    "sns.countplot(y='stars',data=yelp_data)"
   ]
  },
  {
   "cell_type": "code",
   "execution_count": 17,
   "id": "3515191e-cff6-4196-9f73-2c9b90ce92a6",
   "metadata": {},
   "outputs": [
    {
     "data": {
      "text/plain": [
       "<seaborn.axisgrid.FacetGrid at 0x2f19611f1d0>"
      ]
     },
     "execution_count": 17,
     "metadata": {},
     "output_type": "execute_result"
    },
    {
     "data": {
      "image/png": "[encoded data removed]",
      "text/plain": [
       "<Figure size 900x600 with 5 Axes>"
      ]
     },
     "metadata": {},
     "output_type": "display_data"
    }
   ],
   "source": [
    "import matplotlib.pyplot as plt\n",
    "g = sns.FacetGrid(data=yelp_data,col='stars',col_wrap=3)\n",
    "g.map(plt.hist,'length',bins=20,color='r')"
   ]
  },
  {
   "cell_type": "code",
   "execution_count": 18,
   "id": "e96d5521-1cd8-4935-a9c1-66201bf7fa31",
   "metadata": {},
   "outputs": [],
   "source": [
    "\n",
    "yelp_data_1 = yelp_data[yelp_data['stars'] == 1]"
   ]
  },
  {
   "cell_type": "code",
   "execution_count": 19,
   "id": "3d57152b-7cc5-40e8-9ce9-e854a1fe44d4",
   "metadata": {},
   "outputs": [
    {
     "data": {
      "text/html": [
       "<div>\n",
       "<style scoped>\n",
       "    .dataframe tbody tr th:only-of-type {\n",
       "        vertical-align: middle;\n",
       "    }\n",
       "\n",
       "    .dataframe tbody tr th {\n",
       "        vertical-align: top;\n",
       "    }\n",
       "\n",
       "    .dataframe thead th {\n",
       "        text-align: right;\n",
       "    }\n",
       "</style>\n",
       "<table border=\"1\" class=\"dataframe\">\n",
       "  <thead>\n",
       "    <tr style=\"text-align: right;\">\n",
       "      <th></th>\n",
       "      <th>index</th>\n",
       "      <th>review_id</th>\n",
       "      <th>user_id</th>\n",
       "      <th>business_id</th>\n",
       "      <th>stars</th>\n",
       "      <th>useful</th>\n",
       "      <th>funny</th>\n",
       "      <th>cool</th>\n",
       "      <th>text</th>\n",
       "      <th>date</th>\n",
       "      <th>length</th>\n",
       "    </tr>\n",
       "  </thead>\n",
       "  <tbody>\n",
       "    <tr>\n",
       "      <th>3</th>\n",
       "      <td>4105080</td>\n",
       "      <td>KyVh-bEaJjuMV02U_rYQlg</td>\n",
       "      <td>7vig5BGy88pF1b7XPPU5XQ</td>\n",
       "      <td>uEK-Aa80e2BZLw-UNKO77w</td>\n",
       "      <td>1.0</td>\n",
       "      <td>1</td>\n",
       "      <td>3</td>\n",
       "      <td>2</td>\n",
       "      <td>After a decade, this place has not gotten any ...</td>\n",
       "      <td>2020-03-11 04:52:41</td>\n",
       "      <td>739</td>\n",
       "    </tr>\n",
       "    <tr>\n",
       "      <th>5</th>\n",
       "      <td>6304454</td>\n",
       "      <td>hzWMDTwBmUCYK_1yg9oogQ</td>\n",
       "      <td>ZxvAus6NRJgk0tdTOsKLgQ</td>\n",
       "      <td>jg02zYvPsUGyHQBlKQJjZQ</td>\n",
       "      <td>1.0</td>\n",
       "      <td>2</td>\n",
       "      <td>1</td>\n",
       "      <td>0</td>\n",
       "      <td>I waited 25 minutes for a shuttle to the airpo...</td>\n",
       "      <td>2014-05-27 11:49:42</td>\n",
       "      <td>158</td>\n",
       "    </tr>\n",
       "    <tr>\n",
       "      <th>13</th>\n",
       "      <td>337610</td>\n",
       "      <td>_i0DXLj6hX18Al8PmZQysQ</td>\n",
       "      <td>qpPJprgpjIv8SMNUsULqig</td>\n",
       "      <td>RTEdyP_6wGvXQugln1jxbg</td>\n",
       "      <td>1.0</td>\n",
       "      <td>2</td>\n",
       "      <td>0</td>\n",
       "      <td>0</td>\n",
       "      <td>Went to this place on a recommendation from th...</td>\n",
       "      <td>2017-04-20 03:57:59</td>\n",
       "      <td>580</td>\n",
       "    </tr>\n",
       "    <tr>\n",
       "      <th>16</th>\n",
       "      <td>5506529</td>\n",
       "      <td>NLcd9Ktd8iP51nT3TVfErg</td>\n",
       "      <td>SjpLpa6EQma7CFkEx3P06w</td>\n",
       "      <td>gHVHO7xQnj7ihlJJzpBe4g</td>\n",
       "      <td>1.0</td>\n",
       "      <td>3</td>\n",
       "      <td>0</td>\n",
       "      <td>1</td>\n",
       "      <td>Thought I posted this 5 months ago so I'll pos...</td>\n",
       "      <td>2017-01-18 11:05:06</td>\n",
       "      <td>967</td>\n",
       "    </tr>\n",
       "    <tr>\n",
       "      <th>28</th>\n",
       "      <td>6456142</td>\n",
       "      <td>3PnEJ2FXRgJn2A8SuU9TFA</td>\n",
       "      <td>-x_sCxLYM9mUfMGynFOO9Q</td>\n",
       "      <td>-4mDMBfT6N0d-VIUTKVaLg</td>\n",
       "      <td>1.0</td>\n",
       "      <td>1</td>\n",
       "      <td>1</td>\n",
       "      <td>0</td>\n",
       "      <td>No wouldn't go their again! \\n\\nFirst of all i...</td>\n",
       "      <td>2015-11-01 12:29:53</td>\n",
       "      <td>441</td>\n",
       "    </tr>\n",
       "    <tr>\n",
       "      <th>...</th>\n",
       "      <td>...</td>\n",
       "      <td>...</td>\n",
       "      <td>...</td>\n",
       "      <td>...</td>\n",
       "      <td>...</td>\n",
       "      <td>...</td>\n",
       "      <td>...</td>\n",
       "      <td>...</td>\n",
       "      <td>...</td>\n",
       "      <td>...</td>\n",
       "      <td>...</td>\n",
       "    </tr>\n",
       "    <tr>\n",
       "      <th>14952</th>\n",
       "      <td>1369621</td>\n",
       "      <td>LSEP8yol7xUoNVYOyWEviQ</td>\n",
       "      <td>X6li6s_enPEzTFviWisoPg</td>\n",
       "      <td>gHwjEvz_Q53vPG1RqKbqTA</td>\n",
       "      <td>1.0</td>\n",
       "      <td>1</td>\n",
       "      <td>2</td>\n",
       "      <td>0</td>\n",
       "      <td>This place is straight garbage. Your staff is ...</td>\n",
       "      <td>2019-11-15 23:22:39</td>\n",
       "      <td>895</td>\n",
       "    </tr>\n",
       "    <tr>\n",
       "      <th>14978</th>\n",
       "      <td>3825966</td>\n",
       "      <td>a_rkscXJRSIlPR8NtqUIrQ</td>\n",
       "      <td>X3C9VeaTLJi8vTPuEklDUg</td>\n",
       "      <td>3fsHG7UEcEI5TKynj9xloQ</td>\n",
       "      <td>1.0</td>\n",
       "      <td>0</td>\n",
       "      <td>0</td>\n",
       "      <td>0</td>\n",
       "      <td>ADT used to be business like and together. I m...</td>\n",
       "      <td>2018-12-04 01:20:56</td>\n",
       "      <td>572</td>\n",
       "    </tr>\n",
       "    <tr>\n",
       "      <th>14986</th>\n",
       "      <td>5493927</td>\n",
       "      <td>5KhgOllzxBuJIwK4JZlzXw</td>\n",
       "      <td>-7vTJpG7XwFbOhsQs9z9vg</td>\n",
       "      <td>1d6tRwBm5gzWi1Zjw82sYQ</td>\n",
       "      <td>1.0</td>\n",
       "      <td>0</td>\n",
       "      <td>0</td>\n",
       "      <td>0</td>\n",
       "      <td>Did you bother to read the review? I said I wa...</td>\n",
       "      <td>2021-09-10 20:07:26</td>\n",
       "      <td>321</td>\n",
       "    </tr>\n",
       "    <tr>\n",
       "      <th>14987</th>\n",
       "      <td>1502528</td>\n",
       "      <td>ovbexA_QIrgXPA-EVEJxLw</td>\n",
       "      <td>4ieU6eU8Ar4aFQz96Bpj1Q</td>\n",
       "      <td>YlgUOEWxxWrYt_ZVqHYsXA</td>\n",
       "      <td>1.0</td>\n",
       "      <td>0</td>\n",
       "      <td>0</td>\n",
       "      <td>0</td>\n",
       "      <td>This rating is mainly for trying to reserve ro...</td>\n",
       "      <td>2017-09-11 22:39:15</td>\n",
       "      <td>638</td>\n",
       "    </tr>\n",
       "    <tr>\n",
       "      <th>14994</th>\n",
       "      <td>2888467</td>\n",
       "      <td>YaeOLIdLec3NpnSzjpaTZQ</td>\n",
       "      <td>UUeC5sVtX0Ny-mML0bRn3w</td>\n",
       "      <td>lCM7ADP-jH1LlIfG1JofXQ</td>\n",
       "      <td>1.0</td>\n",
       "      <td>3</td>\n",
       "      <td>0</td>\n",
       "      <td>0</td>\n",
       "      <td>I can't recommend this place at all. It was pa...</td>\n",
       "      <td>2012-01-06 19:14:45</td>\n",
       "      <td>557</td>\n",
       "    </tr>\n",
       "  </tbody>\n",
       "</table>\n",
       "<p>2306 rows × 11 columns</p>\n",
       "</div>"
      ],
      "text/plain": [
       "         index               review_id                 user_id  \\\n",
       "3      4105080  KyVh-bEaJjuMV02U_rYQlg  7vig5BGy88pF1b7XPPU5XQ   \n",
       "5      6304454  hzWMDTwBmUCYK_1yg9oogQ  ZxvAus6NRJgk0tdTOsKLgQ   \n",
       "13      337610  _i0DXLj6hX18Al8PmZQysQ  qpPJprgpjIv8SMNUsULqig   \n",
       "16     5506529  NLcd9Ktd8iP51nT3TVfErg  SjpLpa6EQma7CFkEx3P06w   \n",
       "28     6456142  3PnEJ2FXRgJn2A8SuU9TFA  -x_sCxLYM9mUfMGynFOO9Q   \n",
       "...        ...                     ...                     ...   \n",
       "14952  1369621  LSEP8yol7xUoNVYOyWEviQ  X6li6s_enPEzTFviWisoPg   \n",
       "14978  3825966  a_rkscXJRSIlPR8NtqUIrQ  X3C9VeaTLJi8vTPuEklDUg   \n",
       "14986  5493927  5KhgOllzxBuJIwK4JZlzXw  -7vTJpG7XwFbOhsQs9z9vg   \n",
       "14987  1502528  ovbexA_QIrgXPA-EVEJxLw  4ieU6eU8Ar4aFQz96Bpj1Q   \n",
       "14994  2888467  YaeOLIdLec3NpnSzjpaTZQ  UUeC5sVtX0Ny-mML0bRn3w   \n",
       "\n",
       "                  business_id  stars  useful  funny  cool  \\\n",
       "3      uEK-Aa80e2BZLw-UNKO77w    1.0       1      3     2   \n",
       "5      jg02zYvPsUGyHQBlKQJjZQ    1.0       2      1     0   \n",
       "13     RTEdyP_6wGvXQugln1jxbg    1.0       2      0     0   \n",
       "16     gHVHO7xQnj7ihlJJzpBe4g    1.0       3      0     1   \n",
       "28     -4mDMBfT6N0d-VIUTKVaLg    1.0       1      1     0   \n",
       "...                       ...    ...     ...    ...   ...   \n",
       "14952  gHwjEvz_Q53vPG1RqKbqTA    1.0       1      2     0   \n",
       "14978  3fsHG7UEcEI5TKynj9xloQ    1.0       0      0     0   \n",
       "14986  1d6tRwBm5gzWi1Zjw82sYQ    1.0       0      0     0   \n",
       "14987  YlgUOEWxxWrYt_ZVqHYsXA    1.0       0      0     0   \n",
       "14994  lCM7ADP-jH1LlIfG1JofXQ    1.0       3      0     0   \n",
       "\n",
       "                                                    text                 date  \\\n",
       "3      After a decade, this place has not gotten any ...  2020-03-11 04:52:41   \n",
       "5      I waited 25 minutes for a shuttle to the airpo...  2014-05-27 11:49:42   \n",
       "13     Went to this place on a recommendation from th...  2017-04-20 03:57:59   \n",
       "16     Thought I posted this 5 months ago so I'll pos...  2017-01-18 11:05:06   \n",
       "28     No wouldn't go their again! \\n\\nFirst of all i...  2015-11-01 12:29:53   \n",
       "...                                                  ...                  ...   \n",
       "14952  This place is straight garbage. Your staff is ...  2019-11-15 23:22:39   \n",
       "14978  ADT used to be business like and together. I m...  2018-12-04 01:20:56   \n",
       "14986  Did you bother to read the review? I said I wa...  2021-09-10 20:07:26   \n",
       "14987  This rating is mainly for trying to reserve ro...  2017-09-11 22:39:15   \n",
       "14994  I can't recommend this place at all. It was pa...  2012-01-06 19:14:45   \n",
       "\n",
       "       length  \n",
       "3         739  \n",
       "5         158  \n",
       "13        580  \n",
       "16        967  \n",
       "28        441  \n",
       "...       ...  \n",
       "14952     895  \n",
       "14978     572  \n",
       "14986     321  \n",
       "14987     638  \n",
       "14994     557  \n",
       "\n",
       "[2306 rows x 11 columns]"
      ]
     },
     "execution_count": 19,
     "metadata": {},
     "output_type": "execute_result"
    }
   ],
   "source": [
    "yelp_data_1"
   ]
  },
  {
   "cell_type": "code",
   "execution_count": 20,
   "id": "bf6ac13a-9309-46b8-9650-81ca51d53910",
   "metadata": {},
   "outputs": [],
   "source": [
    "yelp_data_5 = yelp_data[yelp_data['stars'] == 5]"
   ]
  },
  {
   "cell_type": "code",
   "execution_count": 21,
   "id": "6051cb6a-9633-4dac-b3ca-22499a97c75a",
   "metadata": {},
   "outputs": [
    {
     "data": {
      "text/html": [
       "<div>\n",
       "<style scoped>\n",
       "    .dataframe tbody tr th:only-of-type {\n",
       "        vertical-align: middle;\n",
       "    }\n",
       "\n",
       "    .dataframe tbody tr th {\n",
       "        vertical-align: top;\n",
       "    }\n",
       "\n",
       "    .dataframe thead th {\n",
       "        text-align: right;\n",
       "    }\n",
       "</style>\n",
       "<table border=\"1\" class=\"dataframe\">\n",
       "  <thead>\n",
       "    <tr style=\"text-align: right;\">\n",
       "      <th></th>\n",
       "      <th>index</th>\n",
       "      <th>review_id</th>\n",
       "      <th>user_id</th>\n",
       "      <th>business_id</th>\n",
       "      <th>stars</th>\n",
       "      <th>useful</th>\n",
       "      <th>funny</th>\n",
       "      <th>cool</th>\n",
       "      <th>text</th>\n",
       "      <th>date</th>\n",
       "      <th>length</th>\n",
       "    </tr>\n",
       "  </thead>\n",
       "  <tbody>\n",
       "    <tr>\n",
       "      <th>2</th>\n",
       "      <td>4868818</td>\n",
       "      <td>4OMMRc-bExE0GygkKDl9xg</td>\n",
       "      <td>BaVAIYKYSSEMT5_sXRiwLg</td>\n",
       "      <td>8P8HIysyyGbG8_94cG1Jyg</td>\n",
       "      <td>5.0</td>\n",
       "      <td>0</td>\n",
       "      <td>0</td>\n",
       "      <td>1</td>\n",
       "      <td>I really enjoyed Entrée BYOB when my friends a...</td>\n",
       "      <td>2015-04-02 18:03:34</td>\n",
       "      <td>832</td>\n",
       "    </tr>\n",
       "    <tr>\n",
       "      <th>4</th>\n",
       "      <td>1029162</td>\n",
       "      <td>kJz7xcC47k2QAztsSSCowQ</td>\n",
       "      <td>5V7KVw14awQ6ceBSToBhWw</td>\n",
       "      <td>745k3sqcSEQeCNPj799u9w</td>\n",
       "      <td>5.0</td>\n",
       "      <td>0</td>\n",
       "      <td>0</td>\n",
       "      <td>0</td>\n",
       "      <td>No matter what people say, I still love this p...</td>\n",
       "      <td>2019-09-17 04:17:39</td>\n",
       "      <td>199</td>\n",
       "    </tr>\n",
       "    <tr>\n",
       "      <th>6</th>\n",
       "      <td>2766674</td>\n",
       "      <td>1j38IDoUo_n0eQctdLlnwA</td>\n",
       "      <td>ah1umfmUJOI6Tr-hhW-exA</td>\n",
       "      <td>UKt-j4m3mFP0j19MEc08vA</td>\n",
       "      <td>5.0</td>\n",
       "      <td>0</td>\n",
       "      <td>0</td>\n",
       "      <td>0</td>\n",
       "      <td>Guardian Restoration Services, Inc. is a great...</td>\n",
       "      <td>2021-02-10 14:39:08</td>\n",
       "      <td>371</td>\n",
       "    </tr>\n",
       "    <tr>\n",
       "      <th>7</th>\n",
       "      <td>571203</td>\n",
       "      <td>rfr59RWSnFLACmZFMdqhZw</td>\n",
       "      <td>Qf9LMWoFtrA2qxbshlFroA</td>\n",
       "      <td>uvQQlr5ye4ReQTxuyB7kCA</td>\n",
       "      <td>5.0</td>\n",
       "      <td>1</td>\n",
       "      <td>1</td>\n",
       "      <td>0</td>\n",
       "      <td>I ordered the hello kitty roll online and wait...</td>\n",
       "      <td>2016-09-18 03:12:26</td>\n",
       "      <td>735</td>\n",
       "    </tr>\n",
       "    <tr>\n",
       "      <th>8</th>\n",
       "      <td>3331074</td>\n",
       "      <td>Hv0um01omSrFJt7Zb32Eag</td>\n",
       "      <td>NrB6C55E5Ial-1PT4BosHw</td>\n",
       "      <td>J4CrtqHDH4LAyDd001cD9g</td>\n",
       "      <td>5.0</td>\n",
       "      <td>0</td>\n",
       "      <td>0</td>\n",
       "      <td>0</td>\n",
       "      <td>This place is amazing!  No need to go into Nas...</td>\n",
       "      <td>2020-11-25 15:47:37</td>\n",
       "      <td>238</td>\n",
       "    </tr>\n",
       "    <tr>\n",
       "      <th>...</th>\n",
       "      <td>...</td>\n",
       "      <td>...</td>\n",
       "      <td>...</td>\n",
       "      <td>...</td>\n",
       "      <td>...</td>\n",
       "      <td>...</td>\n",
       "      <td>...</td>\n",
       "      <td>...</td>\n",
       "      <td>...</td>\n",
       "      <td>...</td>\n",
       "      <td>...</td>\n",
       "    </tr>\n",
       "    <tr>\n",
       "      <th>14993</th>\n",
       "      <td>1184864</td>\n",
       "      <td>rkS-fierNcWr2GGC3BwjqQ</td>\n",
       "      <td>ORT_mcFzSLmhxa0n9jVcEA</td>\n",
       "      <td>RBCtHLVvc230q8zkRWIoyQ</td>\n",
       "      <td>5.0</td>\n",
       "      <td>0</td>\n",
       "      <td>0</td>\n",
       "      <td>0</td>\n",
       "      <td>Best quiche in Philly! They also have the best...</td>\n",
       "      <td>2020-02-09 19:43:41</td>\n",
       "      <td>328</td>\n",
       "    </tr>\n",
       "    <tr>\n",
       "      <th>14995</th>\n",
       "      <td>5926077</td>\n",
       "      <td>bJ_sDHQ8iXcNDxRrlGUm3g</td>\n",
       "      <td>yLT2ZQ0yv9oyfrQo-6hd0w</td>\n",
       "      <td>jq_77IrVM9Bmoj4AoWnpFA</td>\n",
       "      <td>5.0</td>\n",
       "      <td>3</td>\n",
       "      <td>0</td>\n",
       "      <td>0</td>\n",
       "      <td>Beyond amazing!  I was greeted with enthusiast...</td>\n",
       "      <td>2018-11-14 03:31:44</td>\n",
       "      <td>506</td>\n",
       "    </tr>\n",
       "    <tr>\n",
       "      <th>14997</th>\n",
       "      <td>2168380</td>\n",
       "      <td>lZFiV2UOyrvEMiYrT8Mhjw</td>\n",
       "      <td>pcFRf6MkT6-B4W7v4F-lhA</td>\n",
       "      <td>hPmbL4VRqWXJAmcIGoLovg</td>\n",
       "      <td>5.0</td>\n",
       "      <td>1</td>\n",
       "      <td>0</td>\n",
       "      <td>1</td>\n",
       "      <td>We went here on a Monday evening after the kid...</td>\n",
       "      <td>2016-11-23 02:33:38</td>\n",
       "      <td>547</td>\n",
       "    </tr>\n",
       "    <tr>\n",
       "      <th>14998</th>\n",
       "      <td>2826906</td>\n",
       "      <td>1s8zBT5n0FnamDKcFQiARA</td>\n",
       "      <td>KslSSA161kbD4jAyD5VSow</td>\n",
       "      <td>RGXb-3iUuaORNWB_nt_RcQ</td>\n",
       "      <td>5.0</td>\n",
       "      <td>0</td>\n",
       "      <td>0</td>\n",
       "      <td>0</td>\n",
       "      <td>Absolutely incredible food. Everything we ate ...</td>\n",
       "      <td>2018-05-19 14:45:42</td>\n",
       "      <td>107</td>\n",
       "    </tr>\n",
       "    <tr>\n",
       "      <th>14999</th>\n",
       "      <td>294070</td>\n",
       "      <td>4ktFK5voKCuRgLSgzz8xOw</td>\n",
       "      <td>Oni7sgv6mhx1VDT5faKiMA</td>\n",
       "      <td>eMiN8nm70jjKg8izikVWDA</td>\n",
       "      <td>5.0</td>\n",
       "      <td>0</td>\n",
       "      <td>0</td>\n",
       "      <td>0</td>\n",
       "      <td>This is my second favorite Chickie's location ...</td>\n",
       "      <td>2013-08-02 15:26:39</td>\n",
       "      <td>398</td>\n",
       "    </tr>\n",
       "  </tbody>\n",
       "</table>\n",
       "<p>6919 rows × 11 columns</p>\n",
       "</div>"
      ],
      "text/plain": [
       "         index               review_id                 user_id  \\\n",
       "2      4868818  4OMMRc-bExE0GygkKDl9xg  BaVAIYKYSSEMT5_sXRiwLg   \n",
       "4      1029162  kJz7xcC47k2QAztsSSCowQ  5V7KVw14awQ6ceBSToBhWw   \n",
       "6      2766674  1j38IDoUo_n0eQctdLlnwA  ah1umfmUJOI6Tr-hhW-exA   \n",
       "7       571203  rfr59RWSnFLACmZFMdqhZw  Qf9LMWoFtrA2qxbshlFroA   \n",
       "8      3331074  Hv0um01omSrFJt7Zb32Eag  NrB6C55E5Ial-1PT4BosHw   \n",
       "...        ...                     ...                     ...   \n",
       "14993  1184864  rkS-fierNcWr2GGC3BwjqQ  ORT_mcFzSLmhxa0n9jVcEA   \n",
       "14995  5926077  bJ_sDHQ8iXcNDxRrlGUm3g  yLT2ZQ0yv9oyfrQo-6hd0w   \n",
       "14997  2168380  lZFiV2UOyrvEMiYrT8Mhjw  pcFRf6MkT6-B4W7v4F-lhA   \n",
       "14998  2826906  1s8zBT5n0FnamDKcFQiARA  KslSSA161kbD4jAyD5VSow   \n",
       "14999   294070  4ktFK5voKCuRgLSgzz8xOw  Oni7sgv6mhx1VDT5faKiMA   \n",
       "\n",
       "                  business_id  stars  useful  funny  cool  \\\n",
       "2      8P8HIysyyGbG8_94cG1Jyg    5.0       0      0     1   \n",
       "4      745k3sqcSEQeCNPj799u9w    5.0       0      0     0   \n",
       "6      UKt-j4m3mFP0j19MEc08vA    5.0       0      0     0   \n",
       "7      uvQQlr5ye4ReQTxuyB7kCA    5.0       1      1     0   \n",
       "8      J4CrtqHDH4LAyDd001cD9g    5.0       0      0     0   \n",
       "...                       ...    ...     ...    ...   ...   \n",
       "14993  RBCtHLVvc230q8zkRWIoyQ    5.0       0      0     0   \n",
       "14995  jq_77IrVM9Bmoj4AoWnpFA    5.0       3      0     0   \n",
       "14997  hPmbL4VRqWXJAmcIGoLovg    5.0       1      0     1   \n",
       "14998  RGXb-3iUuaORNWB_nt_RcQ    5.0       0      0     0   \n",
       "14999  eMiN8nm70jjKg8izikVWDA    5.0       0      0     0   \n",
       "\n",
       "                                                    text                 date  \\\n",
       "2      I really enjoyed Entrée BYOB when my friends a...  2015-04-02 18:03:34   \n",
       "4      No matter what people say, I still love this p...  2019-09-17 04:17:39   \n",
       "6      Guardian Restoration Services, Inc. is a great...  2021-02-10 14:39:08   \n",
       "7      I ordered the hello kitty roll online and wait...  2016-09-18 03:12:26   \n",
       "8      This place is amazing!  No need to go into Nas...  2020-11-25 15:47:37   \n",
       "...                                                  ...                  ...   \n",
       "14993  Best quiche in Philly! They also have the best...  2020-02-09 19:43:41   \n",
       "14995  Beyond amazing!  I was greeted with enthusiast...  2018-11-14 03:31:44   \n",
       "14997  We went here on a Monday evening after the kid...  2016-11-23 02:33:38   \n",
       "14998  Absolutely incredible food. Everything we ate ...  2018-05-19 14:45:42   \n",
       "14999  This is my second favorite Chickie's location ...  2013-08-02 15:26:39   \n",
       "\n",
       "       length  \n",
       "2         832  \n",
       "4         199  \n",
       "6         371  \n",
       "7         735  \n",
       "8         238  \n",
       "...       ...  \n",
       "14993     328  \n",
       "14995     506  \n",
       "14997     547  \n",
       "14998     107  \n",
       "14999     398  \n",
       "\n",
       "[6919 rows x 11 columns]"
      ]
     },
     "execution_count": 21,
     "metadata": {},
     "output_type": "execute_result"
    }
   ],
   "source": [
    "yelp_data_5"
   ]
  },
  {
   "cell_type": "code",
   "execution_count": 22,
   "id": "6f286493-948f-42d9-b9dc-0e4857ba7640",
   "metadata": {},
   "outputs": [],
   "source": [
    "yelp_data_1_5 = pd.concat([yelp_data_1,yelp_data_5])"
   ]
  },
  {
   "cell_type": "code",
   "execution_count": 23,
   "id": "b622ec15-05f2-40ee-8a31-3019a6db9622",
   "metadata": {},
   "outputs": [
    {
     "name": "stdout",
     "output_type": "stream",
     "text": [
      "<class 'pandas.core.frame.DataFrame'>\n",
      "Index: 9225 entries, 3 to 14999\n",
      "Data columns (total 11 columns):\n",
      " #   Column       Non-Null Count  Dtype  \n",
      "---  ------       --------------  -----  \n",
      " 0   index        9225 non-null   int64  \n",
      " 1   review_id    9225 non-null   object \n",
      " 2   user_id      9225 non-null   object \n",
      " 3   business_id  9225 non-null   object \n",
      " 4   stars        9225 non-null   float64\n",
      " 5   useful       9225 non-null   int64  \n",
      " 6   funny        9225 non-null   int64  \n",
      " 7   cool         9225 non-null   int64  \n",
      " 8   text         9225 non-null   object \n",
      " 9   date         9225 non-null   object \n",
      " 10  length       9225 non-null   int64  \n",
      "dtypes: float64(1), int64(5), object(5)\n",
      "memory usage: 864.8+ KB\n"
     ]
    }
   ],
   "source": [
    "yelp_data_1_5.info()"
   ]
  },
  {
   "cell_type": "code",
   "execution_count": 24,
   "id": "91d80654-33be-445e-8203-bf4895a36aa9",
   "metadata": {},
   "outputs": [
    {
     "data": {
      "text/plain": [
       "stars\n",
       "5.0    6919\n",
       "1.0    2306\n",
       "Name: count, dtype: int64"
      ]
     },
     "execution_count": 24,
     "metadata": {},
     "output_type": "execute_result"
    }
   ],
   "source": [
    "yelp_data_1_5.stars.value_counts()"
   ]
  },
  {
   "cell_type": "code",
   "execution_count": 25,
   "id": "ada46aa5-eb98-470e-a2e3-f3ab3b2c85fa",
   "metadata": {},
   "outputs": [
    {
     "name": "stdout",
     "output_type": "stream",
     "text": [
      "1- star percenatge review  24.99728997289973 %\n"
     ]
    }
   ],
   "source": [
    "print(\"1- star percenatge review \",(len(yelp_data_1)/len(yelp_data_1_5)) * 100,'%')"
   ]
  },
  {
   "cell_type": "code",
   "execution_count": 26,
   "id": "5339f2b5-5693-48ef-ab36-bd0c8208076f",
   "metadata": {},
   "outputs": [
    {
     "name": "stdout",
     "output_type": "stream",
     "text": [
      "5- star percenatge review  75.00271002710028 %\n"
     ]
    }
   ],
   "source": [
    "print(\"5- star percenatge review \",(len(yelp_data_5)/len(yelp_data_1_5)) * 100,'%')"
   ]
  },
  {
   "cell_type": "code",
   "execution_count": 27,
   "id": "ec1de500-c644-4026-ae9d-24d23b554b70",
   "metadata": {},
   "outputs": [
    {
     "data": {
      "text/html": [
       "<div>\n",
       "<style scoped>\n",
       "    .dataframe tbody tr th:only-of-type {\n",
       "        vertical-align: middle;\n",
       "    }\n",
       "\n",
       "    .dataframe tbody tr th {\n",
       "        vertical-align: top;\n",
       "    }\n",
       "\n",
       "    .dataframe thead th {\n",
       "        text-align: right;\n",
       "    }\n",
       "</style>\n",
       "<table border=\"1\" class=\"dataframe\">\n",
       "  <thead>\n",
       "    <tr style=\"text-align: right;\">\n",
       "      <th></th>\n",
       "      <th>index</th>\n",
       "      <th>review_id</th>\n",
       "      <th>user_id</th>\n",
       "      <th>business_id</th>\n",
       "      <th>stars</th>\n",
       "      <th>useful</th>\n",
       "      <th>funny</th>\n",
       "      <th>cool</th>\n",
       "      <th>text</th>\n",
       "      <th>date</th>\n",
       "      <th>length</th>\n",
       "    </tr>\n",
       "  </thead>\n",
       "  <tbody>\n",
       "    <tr>\n",
       "      <th>3</th>\n",
       "      <td>4105080</td>\n",
       "      <td>KyVh-bEaJjuMV02U_rYQlg</td>\n",
       "      <td>7vig5BGy88pF1b7XPPU5XQ</td>\n",
       "      <td>uEK-Aa80e2BZLw-UNKO77w</td>\n",
       "      <td>1.0</td>\n",
       "      <td>1</td>\n",
       "      <td>3</td>\n",
       "      <td>2</td>\n",
       "      <td>After a decade, this place has not gotten any ...</td>\n",
       "      <td>2020-03-11 04:52:41</td>\n",
       "      <td>739</td>\n",
       "    </tr>\n",
       "    <tr>\n",
       "      <th>5</th>\n",
       "      <td>6304454</td>\n",
       "      <td>hzWMDTwBmUCYK_1yg9oogQ</td>\n",
       "      <td>ZxvAus6NRJgk0tdTOsKLgQ</td>\n",
       "      <td>jg02zYvPsUGyHQBlKQJjZQ</td>\n",
       "      <td>1.0</td>\n",
       "      <td>2</td>\n",
       "      <td>1</td>\n",
       "      <td>0</td>\n",
       "      <td>I waited 25 minutes for a shuttle to the airpo...</td>\n",
       "      <td>2014-05-27 11:49:42</td>\n",
       "      <td>158</td>\n",
       "    </tr>\n",
       "    <tr>\n",
       "      <th>13</th>\n",
       "      <td>337610</td>\n",
       "      <td>_i0DXLj6hX18Al8PmZQysQ</td>\n",
       "      <td>qpPJprgpjIv8SMNUsULqig</td>\n",
       "      <td>RTEdyP_6wGvXQugln1jxbg</td>\n",
       "      <td>1.0</td>\n",
       "      <td>2</td>\n",
       "      <td>0</td>\n",
       "      <td>0</td>\n",
       "      <td>Went to this place on a recommendation from th...</td>\n",
       "      <td>2017-04-20 03:57:59</td>\n",
       "      <td>580</td>\n",
       "    </tr>\n",
       "    <tr>\n",
       "      <th>16</th>\n",
       "      <td>5506529</td>\n",
       "      <td>NLcd9Ktd8iP51nT3TVfErg</td>\n",
       "      <td>SjpLpa6EQma7CFkEx3P06w</td>\n",
       "      <td>gHVHO7xQnj7ihlJJzpBe4g</td>\n",
       "      <td>1.0</td>\n",
       "      <td>3</td>\n",
       "      <td>0</td>\n",
       "      <td>1</td>\n",
       "      <td>Thought I posted this 5 months ago so I'll pos...</td>\n",
       "      <td>2017-01-18 11:05:06</td>\n",
       "      <td>967</td>\n",
       "    </tr>\n",
       "    <tr>\n",
       "      <th>28</th>\n",
       "      <td>6456142</td>\n",
       "      <td>3PnEJ2FXRgJn2A8SuU9TFA</td>\n",
       "      <td>-x_sCxLYM9mUfMGynFOO9Q</td>\n",
       "      <td>-4mDMBfT6N0d-VIUTKVaLg</td>\n",
       "      <td>1.0</td>\n",
       "      <td>1</td>\n",
       "      <td>1</td>\n",
       "      <td>0</td>\n",
       "      <td>No wouldn't go their again! \\n\\nFirst of all i...</td>\n",
       "      <td>2015-11-01 12:29:53</td>\n",
       "      <td>441</td>\n",
       "    </tr>\n",
       "    <tr>\n",
       "      <th>...</th>\n",
       "      <td>...</td>\n",
       "      <td>...</td>\n",
       "      <td>...</td>\n",
       "      <td>...</td>\n",
       "      <td>...</td>\n",
       "      <td>...</td>\n",
       "      <td>...</td>\n",
       "      <td>...</td>\n",
       "      <td>...</td>\n",
       "      <td>...</td>\n",
       "      <td>...</td>\n",
       "    </tr>\n",
       "    <tr>\n",
       "      <th>14993</th>\n",
       "      <td>1184864</td>\n",
       "      <td>rkS-fierNcWr2GGC3BwjqQ</td>\n",
       "      <td>ORT_mcFzSLmhxa0n9jVcEA</td>\n",
       "      <td>RBCtHLVvc230q8zkRWIoyQ</td>\n",
       "      <td>5.0</td>\n",
       "      <td>0</td>\n",
       "      <td>0</td>\n",
       "      <td>0</td>\n",
       "      <td>Best quiche in Philly! They also have the best...</td>\n",
       "      <td>2020-02-09 19:43:41</td>\n",
       "      <td>328</td>\n",
       "    </tr>\n",
       "    <tr>\n",
       "      <th>14995</th>\n",
       "      <td>5926077</td>\n",
       "      <td>bJ_sDHQ8iXcNDxRrlGUm3g</td>\n",
       "      <td>yLT2ZQ0yv9oyfrQo-6hd0w</td>\n",
       "      <td>jq_77IrVM9Bmoj4AoWnpFA</td>\n",
       "      <td>5.0</td>\n",
       "      <td>3</td>\n",
       "      <td>0</td>\n",
       "      <td>0</td>\n",
       "      <td>Beyond amazing!  I was greeted with enthusiast...</td>\n",
       "      <td>2018-11-14 03:31:44</td>\n",
       "      <td>506</td>\n",
       "    </tr>\n",
       "    <tr>\n",
       "      <th>14997</th>\n",
       "      <td>2168380</td>\n",
       "      <td>lZFiV2UOyrvEMiYrT8Mhjw</td>\n",
       "      <td>pcFRf6MkT6-B4W7v4F-lhA</td>\n",
       "      <td>hPmbL4VRqWXJAmcIGoLovg</td>\n",
       "      <td>5.0</td>\n",
       "      <td>1</td>\n",
       "      <td>0</td>\n",
       "      <td>1</td>\n",
       "      <td>We went here on a Monday evening after the kid...</td>\n",
       "      <td>2016-11-23 02:33:38</td>\n",
       "      <td>547</td>\n",
       "    </tr>\n",
       "    <tr>\n",
       "      <th>14998</th>\n",
       "      <td>2826906</td>\n",
       "      <td>1s8zBT5n0FnamDKcFQiARA</td>\n",
       "      <td>KslSSA161kbD4jAyD5VSow</td>\n",
       "      <td>RGXb-3iUuaORNWB_nt_RcQ</td>\n",
       "      <td>5.0</td>\n",
       "      <td>0</td>\n",
       "      <td>0</td>\n",
       "      <td>0</td>\n",
       "      <td>Absolutely incredible food. Everything we ate ...</td>\n",
       "      <td>2018-05-19 14:45:42</td>\n",
       "      <td>107</td>\n",
       "    </tr>\n",
       "    <tr>\n",
       "      <th>14999</th>\n",
       "      <td>294070</td>\n",
       "      <td>4ktFK5voKCuRgLSgzz8xOw</td>\n",
       "      <td>Oni7sgv6mhx1VDT5faKiMA</td>\n",
       "      <td>eMiN8nm70jjKg8izikVWDA</td>\n",
       "      <td>5.0</td>\n",
       "      <td>0</td>\n",
       "      <td>0</td>\n",
       "      <td>0</td>\n",
       "      <td>This is my second favorite Chickie's location ...</td>\n",
       "      <td>2013-08-02 15:26:39</td>\n",
       "      <td>398</td>\n",
       "    </tr>\n",
       "  </tbody>\n",
       "</table>\n",
       "<p>9225 rows × 11 columns</p>\n",
       "</div>"
      ],
      "text/plain": [
       "         index               review_id                 user_id  \\\n",
       "3      4105080  KyVh-bEaJjuMV02U_rYQlg  7vig5BGy88pF1b7XPPU5XQ   \n",
       "5      6304454  hzWMDTwBmUCYK_1yg9oogQ  ZxvAus6NRJgk0tdTOsKLgQ   \n",
       "13      337610  _i0DXLj6hX18Al8PmZQysQ  qpPJprgpjIv8SMNUsULqig   \n",
       "16     5506529  NLcd9Ktd8iP51nT3TVfErg  SjpLpa6EQma7CFkEx3P06w   \n",
       "28     6456142  3PnEJ2FXRgJn2A8SuU9TFA  -x_sCxLYM9mUfMGynFOO9Q   \n",
       "...        ...                     ...                     ...   \n",
       "14993  1184864  rkS-fierNcWr2GGC3BwjqQ  ORT_mcFzSLmhxa0n9jVcEA   \n",
       "14995  5926077  bJ_sDHQ8iXcNDxRrlGUm3g  yLT2ZQ0yv9oyfrQo-6hd0w   \n",
       "14997  2168380  lZFiV2UOyrvEMiYrT8Mhjw  pcFRf6MkT6-B4W7v4F-lhA   \n",
       "14998  2826906  1s8zBT5n0FnamDKcFQiARA  KslSSA161kbD4jAyD5VSow   \n",
       "14999   294070  4ktFK5voKCuRgLSgzz8xOw  Oni7sgv6mhx1VDT5faKiMA   \n",
       "\n",
       "                  business_id  stars  useful  funny  cool  \\\n",
       "3      uEK-Aa80e2BZLw-UNKO77w    1.0       1      3     2   \n",
       "5      jg02zYvPsUGyHQBlKQJjZQ    1.0       2      1     0   \n",
       "13     RTEdyP_6wGvXQugln1jxbg    1.0       2      0     0   \n",
       "16     gHVHO7xQnj7ihlJJzpBe4g    1.0       3      0     1   \n",
       "28     -4mDMBfT6N0d-VIUTKVaLg    1.0       1      1     0   \n",
       "...                       ...    ...     ...    ...   ...   \n",
       "14993  RBCtHLVvc230q8zkRWIoyQ    5.0       0      0     0   \n",
       "14995  jq_77IrVM9Bmoj4AoWnpFA    5.0       3      0     0   \n",
       "14997  hPmbL4VRqWXJAmcIGoLovg    5.0       1      0     1   \n",
       "14998  RGXb-3iUuaORNWB_nt_RcQ    5.0       0      0     0   \n",
       "14999  eMiN8nm70jjKg8izikVWDA    5.0       0      0     0   \n",
       "\n",
       "                                                    text                 date  \\\n",
       "3      After a decade, this place has not gotten any ...  2020-03-11 04:52:41   \n",
       "5      I waited 25 minutes for a shuttle to the airpo...  2014-05-27 11:49:42   \n",
       "13     Went to this place on a recommendation from th...  2017-04-20 03:57:59   \n",
       "16     Thought I posted this 5 months ago so I'll pos...  2017-01-18 11:05:06   \n",
       "28     No wouldn't go their again! \\n\\nFirst of all i...  2015-11-01 12:29:53   \n",
       "...                                                  ...                  ...   \n",
       "14993  Best quiche in Philly! They also have the best...  2020-02-09 19:43:41   \n",
       "14995  Beyond amazing!  I was greeted with enthusiast...  2018-11-14 03:31:44   \n",
       "14997  We went here on a Monday evening after the kid...  2016-11-23 02:33:38   \n",
       "14998  Absolutely incredible food. Everything we ate ...  2018-05-19 14:45:42   \n",
       "14999  This is my second favorite Chickie's location ...  2013-08-02 15:26:39   \n",
       "\n",
       "       length  \n",
       "3         739  \n",
       "5         158  \n",
       "13        580  \n",
       "16        967  \n",
       "28        441  \n",
       "...       ...  \n",
       "14993     328  \n",
       "14995     506  \n",
       "14997     547  \n",
       "14998     107  \n",
       "14999     398  \n",
       "\n",
       "[9225 rows x 11 columns]"
      ]
     },
     "execution_count": 27,
     "metadata": {},
     "output_type": "execute_result"
    }
   ],
   "source": [
    "yelp_data_1_5"
   ]
  },
  {
   "cell_type": "code",
   "execution_count": 28,
   "id": "7569e505-107a-400e-a463-4112f7e0f0b8",
   "metadata": {},
   "outputs": [
    {
     "data": {
      "text/plain": [
       "<Axes: xlabel='stars', ylabel='count'>"
      ]
     },
     "execution_count": 28,
     "metadata": {},
     "output_type": "execute_result"
    },
    {
     "data": {
      "image/png": "[encoded data removed]",
      "text/plain": [
       "<Figure size 640x480 with 1 Axes>"
      ]
     },
     "metadata": {},
     "output_type": "display_data"
    }
   ],
   "source": [
    "sns.countplot(x='stars',data =yelp_data_1_5,label='Count')"
   ]
  },
  {
   "cell_type": "code",
   "execution_count": 29,
   "id": "418f74d4-153b-4096-87b5-37d249ed3b18",
   "metadata": {},
   "outputs": [
    {
     "data": {
      "text/plain": [
       "'!\"#$%&\\'()*+,-./:;<=>?@[\\\\]^_`{|}~'"
      ]
     },
     "execution_count": 29,
     "metadata": {},
     "output_type": "execute_result"
    }
   ],
   "source": [
    "import string\n",
    "string.punctuation"
   ]
  },
  {
   "cell_type": "code",
   "execution_count": 30,
   "id": "c49a7735-c704-41c8-8435-b95701ef52f7",
   "metadata": {},
   "outputs": [
    {
     "name": "stderr",
     "output_type": "stream",
     "text": [
      "[nltk_data] Downloading package stopwords to\n",
      "[nltk_data]     C:\\Users\\kondr\\AppData\\Roaming\\nltk_data...\n",
      "[nltk_data]   Package stopwords is already up-to-date!\n"
     ]
    },
    {
     "data": {
      "text/plain": [
       "['i',\n",
       " 'me',\n",
       " 'my',\n",
       " 'myself',\n",
       " 'we',\n",
       " 'our',\n",
       " 'ours',\n",
       " 'ourselves',\n",
       " 'you',\n",
       " \"you're\",\n",
       " \"you've\",\n",
       " \"you'll\",\n",
       " \"you'd\",\n",
       " 'your',\n",
       " 'yours',\n",
       " 'yourself',\n",
       " 'yourselves',\n",
       " 'he',\n",
       " 'him',\n",
       " 'his',\n",
       " 'himself',\n",
       " 'she',\n",
       " \"she's\",\n",
       " 'her',\n",
       " 'hers',\n",
       " 'herself',\n",
       " 'it',\n",
       " \"it's\",\n",
       " 'its',\n",
       " 'itself',\n",
       " 'they',\n",
       " 'them',\n",
       " 'their',\n",
       " 'theirs',\n",
       " 'themselves',\n",
       " 'what',\n",
       " 'which',\n",
       " 'who',\n",
       " 'whom',\n",
       " 'this',\n",
       " 'that',\n",
       " \"that'll\",\n",
       " 'these',\n",
       " 'those',\n",
       " 'am',\n",
       " 'is',\n",
       " 'are',\n",
       " 'was',\n",
       " 'were',\n",
       " 'be',\n",
       " 'been',\n",
       " 'being',\n",
       " 'have',\n",
       " 'has',\n",
       " 'had',\n",
       " 'having',\n",
       " 'do',\n",
       " 'does',\n",
       " 'did',\n",
       " 'doing',\n",
       " 'a',\n",
       " 'an',\n",
       " 'the',\n",
       " 'and',\n",
       " 'but',\n",
       " 'if',\n",
       " 'or',\n",
       " 'because',\n",
       " 'as',\n",
       " 'until',\n",
       " 'while',\n",
       " 'of',\n",
       " 'at',\n",
       " 'by',\n",
       " 'for',\n",
       " 'with',\n",
       " 'about',\n",
       " 'against',\n",
       " 'between',\n",
       " 'into',\n",
       " 'through',\n",
       " 'during',\n",
       " 'before',\n",
       " 'after',\n",
       " 'above',\n",
       " 'below',\n",
       " 'to',\n",
       " 'from',\n",
       " 'up',\n",
       " 'down',\n",
       " 'in',\n",
       " 'out',\n",
       " 'on',\n",
       " 'off',\n",
       " 'over',\n",
       " 'under',\n",
       " 'again',\n",
       " 'further',\n",
       " 'then',\n",
       " 'once',\n",
       " 'here',\n",
       " 'there',\n",
       " 'when',\n",
       " 'where',\n",
       " 'why',\n",
       " 'how',\n",
       " 'all',\n",
       " 'any',\n",
       " 'both',\n",
       " 'each',\n",
       " 'few',\n",
       " 'more',\n",
       " 'most',\n",
       " 'other',\n",
       " 'some',\n",
       " 'such',\n",
       " 'no',\n",
       " 'nor',\n",
       " 'not',\n",
       " 'only',\n",
       " 'own',\n",
       " 'same',\n",
       " 'so',\n",
       " 'than',\n",
       " 'too',\n",
       " 'very',\n",
       " 's',\n",
       " 't',\n",
       " 'can',\n",
       " 'will',\n",
       " 'just',\n",
       " 'don',\n",
       " \"don't\",\n",
       " 'should',\n",
       " \"should've\",\n",
       " 'now',\n",
       " 'd',\n",
       " 'll',\n",
       " 'm',\n",
       " 'o',\n",
       " 're',\n",
       " 've',\n",
       " 'y',\n",
       " 'ain',\n",
       " 'aren',\n",
       " \"aren't\",\n",
       " 'couldn',\n",
       " \"couldn't\",\n",
       " 'didn',\n",
       " \"didn't\",\n",
       " 'doesn',\n",
       " \"doesn't\",\n",
       " 'hadn',\n",
       " \"hadn't\",\n",
       " 'hasn',\n",
       " \"hasn't\",\n",
       " 'haven',\n",
       " \"haven't\",\n",
       " 'isn',\n",
       " \"isn't\",\n",
       " 'ma',\n",
       " 'mightn',\n",
       " \"mightn't\",\n",
       " 'mustn',\n",
       " \"mustn't\",\n",
       " 'needn',\n",
       " \"needn't\",\n",
       " 'shan',\n",
       " \"shan't\",\n",
       " 'shouldn',\n",
       " \"shouldn't\",\n",
       " 'wasn',\n",
       " \"wasn't\",\n",
       " 'weren',\n",
       " \"weren't\",\n",
       " 'won',\n",
       " \"won't\",\n",
       " 'wouldn',\n",
       " \"wouldn't\"]"
      ]
     },
     "execution_count": 30,
     "metadata": {},
     "output_type": "execute_result"
    }
   ],
   "source": [
    "#!pip install nltk\n",
    "#from nltk.corpus import stopwords\n",
    "#stopwords.words('english')\n",
    "import nltk\n",
    "from nltk.corpus import stopwords\n",
    "nltk.download('stopwords')\n",
    "stopwords.words('english')"
   ]
  },
  {
   "cell_type": "code",
   "execution_count": 31,
   "id": "3c1b836a-6c6e-431a-b99f-2fea6a1e991c",
   "metadata": {},
   "outputs": [],
   "source": [
    "def message_cleaning(message):\n",
    "    Text_punch_removed = [char for char in message if char not in string.punctuation]\n",
    "    Text_punch_removed_join =''.join(Text_punch_removed)\n",
    "    Text_punch_removed_join_clean = [ word for word in Text_punch_removed_join.split() if word.lower() not in stopwords.words('english')]\n",
    "    return Text_punch_removed_join_clean\n",
    "       "
   ]
  },
  {
   "cell_type": "code",
   "execution_count": 34,
   "id": "29ec3e35-d5f7-408e-8b81-07f609d142a3",
   "metadata": {},
   "outputs": [],
   "source": [
    "yelp_data_df = yelp_data_1_5['text'].apply(message_cleaning)"
   ]
  },
  {
   "cell_type": "code",
   "execution_count": 35,
   "id": "d30d7ddb-77a1-4daa-9cf7-15419652fdcf",
   "metadata": {},
   "outputs": [
    {
     "data": {
      "text/plain": [
       "3        [decade, place, gotten, better, Prices, high, ...\n",
       "5        [waited, 25, minutes, shuttle, airport, 20, mi...\n",
       "13       [Went, place, recommendation, hotel, stayed, w...\n",
       "16       [Thought, posted, 5, months, ago, Ill, post, D...\n",
       "28       [wouldnt, go, First, lot, stuff, storerestaura...\n",
       "                               ...                        \n",
       "14993    [Best, quiche, Philly, also, best, sweet, pota...\n",
       "14995    [Beyond, amazing, greeted, enthusiastic, smile...\n",
       "14997    [went, Monday, evening, kids, done, dance, cla...\n",
       "14998    [Absolutely, incredible, food, Everything, ate...\n",
       "14999    [second, favorite, Chickies, location, first, ...\n",
       "Name: text, Length: 9225, dtype: object"
      ]
     },
     "execution_count": 35,
     "metadata": {},
     "output_type": "execute_result"
    }
   ],
   "source": [
    "yelp_data_df"
   ]
  },
  {
   "cell_type": "code",
   "execution_count": 62,
   "id": "53810a03-859c-498b-8a2a-2bdf518a0bee",
   "metadata": {},
   "outputs": [
    {
     "name": "stdout",
     "output_type": "stream",
     "text": [
      "<class 'pandas.core.series.Series'>\n",
      "Index: 9225 entries, 3 to 14999\n",
      "Series name: text\n",
      "Non-Null Count  Dtype \n",
      "--------------  ----- \n",
      "9225 non-null   object\n",
      "dtypes: object(1)\n",
      "memory usage: 402.2+ KB\n"
     ]
    }
   ],
   "source": [
    "yelp_data_df.info()"
   ]
  },
  {
   "cell_type": "code",
   "execution_count": 64,
   "id": "cf7ac131-06b1-41ab-8aa6-c5dd879ab2af",
   "metadata": {},
   "outputs": [],
   "source": [
    "from sklearn.feature_extraction.text import CountVectorizer\n",
    "vectorizer = CountVectorizer(analyzer=message_cleaning)\n",
    "yelp_countvectorizer = vectorizer.fit_transform(yelp_data_1_5['text'])"
   ]
  },
  {
   "cell_type": "code",
   "execution_count": 65,
   "id": "a03dcff6-1c88-42de-bf16-3529494ebab0",
   "metadata": {},
   "outputs": [
    {
     "name": "stdout",
     "output_type": "stream",
     "text": [
      "['0' '007' '010' ... '费城终于有好吃的湖南菜了' '酸菜鱼非常好吃' '馒头']\n"
     ]
    }
   ],
   "source": [
    "print(vectorizer.get_feature_names_out())"
   ]
  },
  {
   "cell_type": "code",
   "execution_count": 66,
   "id": "3b0208da-eab9-4e60-ba8f-1f0f3fdf148c",
   "metadata": {},
   "outputs": [
    {
     "data": {
      "text/plain": [
       "array([[0, 0, 0, ..., 0, 0, 0],\n",
       "       [0, 0, 0, ..., 0, 0, 0],\n",
       "       [0, 0, 0, ..., 0, 0, 0],\n",
       "       ...,\n",
       "       [0, 0, 0, ..., 0, 0, 0],\n",
       "       [0, 0, 0, ..., 0, 0, 0],\n",
       "       [0, 0, 0, ..., 0, 0, 0]], dtype=int64)"
      ]
     },
     "execution_count": 66,
     "metadata": {},
     "output_type": "execute_result"
    }
   ],
   "source": [
    "yelp_countvectorizer.toarray()"
   ]
  },
  {
   "cell_type": "code",
   "execution_count": 67,
   "id": "8fdc9688-6587-4f6f-9bc1-92888eacfb7d",
   "metadata": {},
   "outputs": [
    {
     "data": {
      "text/plain": [
       "(9225, 33727)"
      ]
     },
     "execution_count": 67,
     "metadata": {},
     "output_type": "execute_result"
    }
   ],
   "source": [
    "yelp_countvectorizer.shape"
   ]
  },
  {
   "cell_type": "code",
   "execution_count": 68,
   "id": "4323f780-429b-48e3-933c-e84dcdeb53c8",
   "metadata": {},
   "outputs": [],
   "source": [
    "#from sklearn.naive_bayes import MultinominalNB\n",
    "from sklearn.naive_bayes import MultinomialNB\n",
    "\n",
    "NB_Classifier = MultinomialNB()\n",
    "label = yelp_data_1_5['stars'].values"
   ]
  },
  {
   "cell_type": "code",
   "execution_count": 69,
   "id": "ccfcc7bd-43d5-47f6-bad8-73f233ffd163",
   "metadata": {},
   "outputs": [
    {
     "data": {
      "text/plain": [
       "array([1., 1., 1., ..., 5., 5., 5.])"
      ]
     },
     "execution_count": 69,
     "metadata": {},
     "output_type": "execute_result"
    }
   ],
   "source": [
    "yelp_data_1_5['stars'].values"
   ]
  },
  {
   "cell_type": "code",
   "execution_count": 70,
   "id": "d655cc9d-b31f-4b9f-91a6-f2dc0c1c65db",
   "metadata": {},
   "outputs": [
    {
     "data": {
      "text/html": [
       "<style>#sk-container-id-3 {color: black;background-color: white;}#sk-container-id-3 pre{padding: 0;}#sk-container-id-3 div.sk-toggleable {background-color: white;}#sk-container-id-3 label.sk-toggleable__label {cursor: pointer;display: block;width: 100%;margin-bottom: 0;padding: 0.3em;box-sizing: border-box;text-align: center;}#sk-container-id-3 label.sk-toggleable__label-arrow:before {content: \"▸\";float: left;margin-right: 0.25em;color: #696969;}#sk-container-id-3 label.sk-toggleable__label-arrow:hover:before {color: black;}#sk-container-id-3 div.sk-estimator:hover label.sk-toggleable__label-arrow:before {color: black;}#sk-container-id-3 div.sk-toggleable__content {max-height: 0;max-width: 0;overflow: hidden;text-align: left;background-color: #f0f8ff;}#sk-container-id-3 div.sk-toggleable__content pre {margin: 0.2em;color: black;border-radius: 0.25em;background-color: #f0f8ff;}#sk-container-id-3 input.sk-toggleable__control:checked~div.sk-toggleable__content {max-height: 200px;max-width: 100%;overflow: auto;}#sk-container-id-3 input.sk-toggleable__control:checked~label.sk-toggleable__label-arrow:before {content: \"▾\";}#sk-container-id-3 div.sk-estimator input.sk-toggleable__control:checked~label.sk-toggleable__label {background-color: #d4ebff;}#sk-container-id-3 div.sk-label input.sk-toggleable__control:checked~label.sk-toggleable__label {background-color: #d4ebff;}#sk-container-id-3 input.sk-hidden--visually {border: 0;clip: rect(1px 1px 1px 1px);clip: rect(1px, 1px, 1px, 1px);height: 1px;margin: -1px;overflow: hidden;padding: 0;position: absolute;width: 1px;}#sk-container-id-3 div.sk-estimator {font-family: monospace;background-color: #f0f8ff;border: 1px dotted black;border-radius: 0.25em;box-sizing: border-box;margin-bottom: 0.5em;}#sk-container-id-3 div.sk-estimator:hover {background-color: #d4ebff;}#sk-container-id-3 div.sk-parallel-item::after {content: \"\";width: 100%;border-bottom: 1px solid gray;flex-grow: 1;}#sk-container-id-3 div.sk-label:hover label.sk-toggleable__label {background-color: #d4ebff;}#sk-container-id-3 div.sk-serial::before {content: \"\";position: absolute;border-left: 1px solid gray;box-sizing: border-box;top: 0;bottom: 0;left: 50%;z-index: 0;}#sk-container-id-3 div.sk-serial {display: flex;flex-direction: column;align-items: center;background-color: white;padding-right: 0.2em;padding-left: 0.2em;position: relative;}#sk-container-id-3 div.sk-item {position: relative;z-index: 1;}#sk-container-id-3 div.sk-parallel {display: flex;align-items: stretch;justify-content: center;background-color: white;position: relative;}#sk-container-id-3 div.sk-item::before, #sk-container-id-3 div.sk-parallel-item::before {content: \"\";position: absolute;border-left: 1px solid gray;box-sizing: border-box;top: 0;bottom: 0;left: 50%;z-index: -1;}#sk-container-id-3 div.sk-parallel-item {display: flex;flex-direction: column;z-index: 1;position: relative;background-color: white;}#sk-container-id-3 div.sk-parallel-item:first-child::after {align-self: flex-end;width: 50%;}#sk-container-id-3 div.sk-parallel-item:last-child::after {align-self: flex-start;width: 50%;}#sk-container-id-3 div.sk-parallel-item:only-child::after {width: 0;}#sk-container-id-3 div.sk-dashed-wrapped {border: 1px dashed gray;margin: 0 0.4em 0.5em 0.4em;box-sizing: border-box;padding-bottom: 0.4em;background-color: white;}#sk-container-id-3 div.sk-label label {font-family: monospace;font-weight: bold;display: inline-block;line-height: 1.2em;}#sk-container-id-3 div.sk-label-container {text-align: center;}#sk-container-id-3 div.sk-container {/* jupyter's `normalize.less` sets `[hidden] { display: none; }` but bootstrap.min.css set `[hidden] { display: none !important; }` so we also need the `!important` here to be able to override the default hidden behavior on the sphinx rendered scikit-learn.org. See: https://github.com/scikit-learn/scikit-learn/issues/21755 */display: inline-block !important;position: relative;}#sk-container-id-3 div.sk-text-repr-fallback {display: none;}</style><div id=\"sk-container-id-3\" class=\"sk-top-container\"><div class=\"sk-text-repr-fallback\"><pre>MultinomialNB()</pre><b>In a Jupyter environment, please rerun this cell to show the HTML representation or trust the notebook. <br />On GitHub, the HTML representation is unable to render, please try loading this page with nbviewer.org.</b></div><div class=\"sk-container\" hidden><div class=\"sk-item\"><div class=\"sk-estimator sk-toggleable\"><input class=\"sk-toggleable__control sk-hidden--visually\" id=\"sk-estimator-id-3\" type=\"checkbox\" checked><label for=\"sk-estimator-id-3\" class=\"sk-toggleable__label sk-toggleable__label-arrow\">MultinomialNB</label><div class=\"sk-toggleable__content\"><pre>MultinomialNB()</pre></div></div></div></div></div>"
      ],
      "text/plain": [
       "MultinomialNB()"
      ]
     },
     "execution_count": 70,
     "metadata": {},
     "output_type": "execute_result"
    }
   ],
   "source": [
    "NB_Classifier.fit(yelp_countvectorizer,label)"
   ]
  },
  {
   "cell_type": "code",
   "execution_count": 71,
   "id": "cd9f2ce6-60ce-478f-b6da-6ebf3f9b636c",
   "metadata": {},
   "outputs": [
    {
     "name": "stdout",
     "output_type": "stream",
     "text": [
      "[1.]\n"
     ]
    }
   ],
   "source": [
    "#testing_sample=['amazing food! highly recommanded']\n",
    "testing_sample=['worst food! made me sick']\n",
    "\n",
    "\n",
    "testing_sample_vectorizer = vectorizer.transform(testing_sample)\n",
    "test_predict =NB_Classifier.predict(testing_sample_vectorizer)\n",
    "print(test_predict)"
   ]
  },
  {
   "cell_type": "code",
   "execution_count": 72,
   "id": "f0a57199-3681-4ca8-886a-34ba38c870a0",
   "metadata": {},
   "outputs": [],
   "source": [
    "X = yelp_countvectorizer"
   ]
  },
  {
   "cell_type": "code",
   "execution_count": 73,
   "id": "b81e063f-e0c4-45f6-8a36-3e8e3c5a42e7",
   "metadata": {},
   "outputs": [],
   "source": [
    "y = label"
   ]
  },
  {
   "cell_type": "code",
   "execution_count": 74,
   "id": "d1fa8a60-32f6-4eb5-a876-11ca0278c352",
   "metadata": {},
   "outputs": [
    {
     "data": {
      "text/plain": [
       "(9225, 33727)"
      ]
     },
     "execution_count": 74,
     "metadata": {},
     "output_type": "execute_result"
    }
   ],
   "source": [
    "X.shape"
   ]
  },
  {
   "cell_type": "code",
   "execution_count": 75,
   "id": "918b22e0-b2ed-48b2-862c-cf12389c10b2",
   "metadata": {},
   "outputs": [],
   "source": [
    "from sklearn.model_selection import train_test_split\n",
    "X_train,X_test,y_train,y_test = train_test_split(X,y,test_size=0.2)"
   ]
  },
  {
   "cell_type": "code",
   "execution_count": 76,
   "id": "7de71c12-d743-4710-8982-256cfc089bcc",
   "metadata": {},
   "outputs": [
    {
     "data": {
      "text/plain": [
       "(7380, 33727)"
      ]
     },
     "execution_count": 76,
     "metadata": {},
     "output_type": "execute_result"
    }
   ],
   "source": [
    "X_train.shape"
   ]
  },
  {
   "cell_type": "code",
   "execution_count": 77,
   "id": "12300787-164f-4f56-bba2-2f267c35d9eb",
   "metadata": {},
   "outputs": [
    {
     "data": {
      "text/plain": [
       "(1845, 33727)"
      ]
     },
     "execution_count": 77,
     "metadata": {},
     "output_type": "execute_result"
    }
   ],
   "source": [
    "X_test.shape"
   ]
  },
  {
   "cell_type": "code",
   "execution_count": 78,
   "id": "da1bc5af-4c0a-4e8c-9b4e-3e7a5784362f",
   "metadata": {},
   "outputs": [
    {
     "data": {
      "text/plain": [
       "(7380,)"
      ]
     },
     "execution_count": 78,
     "metadata": {},
     "output_type": "execute_result"
    }
   ],
   "source": [
    "y_train.shape"
   ]
  },
  {
   "cell_type": "code",
   "execution_count": 79,
   "id": "7d84ad11-0994-40a4-b95d-d97d0a954406",
   "metadata": {},
   "outputs": [
    {
     "data": {
      "text/plain": [
       "(1845,)"
      ]
     },
     "execution_count": 79,
     "metadata": {},
     "output_type": "execute_result"
    }
   ],
   "source": [
    "y_test.shape"
   ]
  },
  {
   "cell_type": "code",
   "execution_count": 80,
   "id": "f52ff3a1-4a14-4aca-97e1-20b8860d070f",
   "metadata": {},
   "outputs": [
    {
     "data": {
      "text/html": [
       "<style>#sk-container-id-4 {color: black;background-color: white;}#sk-container-id-4 pre{padding: 0;}#sk-container-id-4 div.sk-toggleable {background-color: white;}#sk-container-id-4 label.sk-toggleable__label {cursor: pointer;display: block;width: 100%;margin-bottom: 0;padding: 0.3em;box-sizing: border-box;text-align: center;}#sk-container-id-4 label.sk-toggleable__label-arrow:before {content: \"▸\";float: left;margin-right: 0.25em;color: #696969;}#sk-container-id-4 label.sk-toggleable__label-arrow:hover:before {color: black;}#sk-container-id-4 div.sk-estimator:hover label.sk-toggleable__label-arrow:before {color: black;}#sk-container-id-4 div.sk-toggleable__content {max-height: 0;max-width: 0;overflow: hidden;text-align: left;background-color: #f0f8ff;}#sk-container-id-4 div.sk-toggleable__content pre {margin: 0.2em;color: black;border-radius: 0.25em;background-color: #f0f8ff;}#sk-container-id-4 input.sk-toggleable__control:checked~div.sk-toggleable__content {max-height: 200px;max-width: 100%;overflow: auto;}#sk-container-id-4 input.sk-toggleable__control:checked~label.sk-toggleable__label-arrow:before {content: \"▾\";}#sk-container-id-4 div.sk-estimator input.sk-toggleable__control:checked~label.sk-toggleable__label {background-color: #d4ebff;}#sk-container-id-4 div.sk-label input.sk-toggleable__control:checked~label.sk-toggleable__label {background-color: #d4ebff;}#sk-container-id-4 input.sk-hidden--visually {border: 0;clip: rect(1px 1px 1px 1px);clip: rect(1px, 1px, 1px, 1px);height: 1px;margin: -1px;overflow: hidden;padding: 0;position: absolute;width: 1px;}#sk-container-id-4 div.sk-estimator {font-family: monospace;background-color: #f0f8ff;border: 1px dotted black;border-radius: 0.25em;box-sizing: border-box;margin-bottom: 0.5em;}#sk-container-id-4 div.sk-estimator:hover {background-color: #d4ebff;}#sk-container-id-4 div.sk-parallel-item::after {content: \"\";width: 100%;border-bottom: 1px solid gray;flex-grow: 1;}#sk-container-id-4 div.sk-label:hover label.sk-toggleable__label {background-color: #d4ebff;}#sk-container-id-4 div.sk-serial::before {content: \"\";position: absolute;border-left: 1px solid gray;box-sizing: border-box;top: 0;bottom: 0;left: 50%;z-index: 0;}#sk-container-id-4 div.sk-serial {display: flex;flex-direction: column;align-items: center;background-color: white;padding-right: 0.2em;padding-left: 0.2em;position: relative;}#sk-container-id-4 div.sk-item {position: relative;z-index: 1;}#sk-container-id-4 div.sk-parallel {display: flex;align-items: stretch;justify-content: center;background-color: white;position: relative;}#sk-container-id-4 div.sk-item::before, #sk-container-id-4 div.sk-parallel-item::before {content: \"\";position: absolute;border-left: 1px solid gray;box-sizing: border-box;top: 0;bottom: 0;left: 50%;z-index: -1;}#sk-container-id-4 div.sk-parallel-item {display: flex;flex-direction: column;z-index: 1;position: relative;background-color: white;}#sk-container-id-4 div.sk-parallel-item:first-child::after {align-self: flex-end;width: 50%;}#sk-container-id-4 div.sk-parallel-item:last-child::after {align-self: flex-start;width: 50%;}#sk-container-id-4 div.sk-parallel-item:only-child::after {width: 0;}#sk-container-id-4 div.sk-dashed-wrapped {border: 1px dashed gray;margin: 0 0.4em 0.5em 0.4em;box-sizing: border-box;padding-bottom: 0.4em;background-color: white;}#sk-container-id-4 div.sk-label label {font-family: monospace;font-weight: bold;display: inline-block;line-height: 1.2em;}#sk-container-id-4 div.sk-label-container {text-align: center;}#sk-container-id-4 div.sk-container {/* jupyter's `normalize.less` sets `[hidden] { display: none; }` but bootstrap.min.css set `[hidden] { display: none !important; }` so we also need the `!important` here to be able to override the default hidden behavior on the sphinx rendered scikit-learn.org. See: https://github.com/scikit-learn/scikit-learn/issues/21755 */display: inline-block !important;position: relative;}#sk-container-id-4 div.sk-text-repr-fallback {display: none;}</style><div id=\"sk-container-id-4\" class=\"sk-top-container\"><div class=\"sk-text-repr-fallback\"><pre>MultinomialNB()</pre><b>In a Jupyter environment, please rerun this cell to show the HTML representation or trust the notebook. <br />On GitHub, the HTML representation is unable to render, please try loading this page with nbviewer.org.</b></div><div class=\"sk-container\" hidden><div class=\"sk-item\"><div class=\"sk-estimator sk-toggleable\"><input class=\"sk-toggleable__control sk-hidden--visually\" id=\"sk-estimator-id-4\" type=\"checkbox\" checked><label for=\"sk-estimator-id-4\" class=\"sk-toggleable__label sk-toggleable__label-arrow\">MultinomialNB</label><div class=\"sk-toggleable__content\"><pre>MultinomialNB()</pre></div></div></div></div></div>"
      ],
      "text/plain": [
       "MultinomialNB()"
      ]
     },
     "execution_count": 80,
     "metadata": {},
     "output_type": "execute_result"
    }
   ],
   "source": [
    "from sklearn.naive_bayes import MultinomialNB\n",
    "\n",
    "NB_Classifier = MultinomialNB()\n",
    "\n",
    "NB_Classifier.fit(X_train,y_train)"
   ]
  },
  {
   "cell_type": "code",
   "execution_count": 81,
   "id": "f7e7b0cd-d97a-467a-ae95-7dba6465f2db",
   "metadata": {},
   "outputs": [
    {
     "data": {
      "text/plain": [
       "array([5., 5., 5., ..., 5., 1., 5.])"
      ]
     },
     "execution_count": 81,
     "metadata": {},
     "output_type": "execute_result"
    }
   ],
   "source": [
    "from sklearn.metrics import classification_report,confusion_matrix\n",
    "y_predict_train =NB_Classifier.predict(X_train)\n",
    "y_predict_train"
   ]
  },
  {
   "cell_type": "code",
   "execution_count": 82,
   "id": "e1840b26-0d28-4448-a95d-b46b1fd9cdc2",
   "metadata": {},
   "outputs": [
    {
     "data": {
      "text/plain": [
       "array([[1690,  142],\n",
       "       [ 117, 5431]], dtype=int64)"
      ]
     },
     "execution_count": 82,
     "metadata": {},
     "output_type": "execute_result"
    }
   ],
   "source": [
    "cm=confusion_matrix(y_train,y_predict_train)\n",
    "cm"
   ]
  },
  {
   "cell_type": "code",
   "execution_count": 83,
   "id": "1a72a7c1-305d-40a6-b0cf-d1af8b760206",
   "metadata": {},
   "outputs": [
    {
     "data": {
      "text/plain": [
       "array([5., 1., 5., ..., 1., 5., 5.])"
      ]
     },
     "execution_count": 83,
     "metadata": {},
     "output_type": "execute_result"
    }
   ],
   "source": [
    "y_predict_test =NB_Classifier.predict(X_test)\n",
    "y_predict_test"
   ]
  },
  {
   "cell_type": "code",
   "execution_count": 84,
   "id": "045951be-4a70-4127-a6de-1f4bc4090733",
   "metadata": {},
   "outputs": [
    {
     "data": {
      "text/plain": [
       "array([[ 410,   64],\n",
       "       [  64, 1307]], dtype=int64)"
      ]
     },
     "execution_count": 84,
     "metadata": {},
     "output_type": "execute_result"
    }
   ],
   "source": [
    "cm=confusion_matrix(y_test,y_predict_test)\n",
    "cm"
   ]
  },
  {
   "cell_type": "code",
   "execution_count": 85,
   "id": "c8a7a44c-bbb7-40c9-b5b3-5b10426427a8",
   "metadata": {},
   "outputs": [
    {
     "name": "stdout",
     "output_type": "stream",
     "text": [
      "              precision    recall  f1-score   support\n",
      "\n",
      "         1.0       0.86      0.86      0.86       474\n",
      "         5.0       0.95      0.95      0.95      1371\n",
      "\n",
      "    accuracy                           0.93      1845\n",
      "   macro avg       0.91      0.91      0.91      1845\n",
      "weighted avg       0.93      0.93      0.93      1845\n",
      "\n"
     ]
    }
   ],
   "source": [
    "print(classification_report(y_test,y_predict_test))"
   ]
  },
  {
   "cell_type": "code",
   "execution_count": 86,
   "id": "3cc99977-098e-43d9-a89a-e17d6f251137",
   "metadata": {},
   "outputs": [
    {
     "name": "stdout",
     "output_type": "stream",
     "text": [
      "(9225, 33727)\n"
     ]
    }
   ],
   "source": [
    "from sklearn.feature_extraction.text import TfidfTransformer\n",
    "yelp_tfidf= TfidfTransformer().fit_transform(yelp_countvectorizer)\n",
    "print(yelp_tfidf.shape)"
   ]
  },
  {
   "cell_type": "code",
   "execution_count": 87,
   "id": "20e5943e-a0a4-4a0b-a6a4-ae648fae1c72",
   "metadata": {},
   "outputs": [
    {
     "name": "stdout",
     "output_type": "stream",
     "text": [
      "  (0, 31979)\t0.07633508347723843\n",
      "  (0, 31551)\t0.11041033654867467\n",
      "  (0, 31386)\t0.06815253009558347\n",
      "  (0, 30678)\t0.15102542028408875\n",
      "  (0, 30623)\t0.13905275420552796\n",
      "  (0, 29444)\t0.06783493962911144\n",
      "  (0, 29049)\t0.04190183572940876\n",
      "  (0, 28609)\t0.14717108270269513\n",
      "  (0, 28411)\t0.07966830732386039\n",
      "  (0, 27988)\t0.11355955965689533\n",
      "  (0, 27883)\t0.16299808636264956\n",
      "  (0, 27801)\t0.10921862916634495\n",
      "  (0, 27747)\t0.1559945256730353\n",
      "  (0, 26726)\t0.15102542028408875\n",
      "  (0, 26256)\t0.07521195868071155\n",
      "  (0, 26076)\t0.1559945256730353\n",
      "  (0, 25718)\t0.08311136580909795\n",
      "  (0, 25541)\t0.12322575054557351\n",
      "  (0, 25076)\t0.14135922939541057\n",
      "  (0, 24931)\t0.12819485593452004\n",
      "  (0, 24634)\t0.10921862916634495\n",
      "  (0, 23786)\t0.0839795337555379\n",
      "  (0, 23574)\t0.1559945256730353\n",
      "  (0, 23359)\t0.06895437011882997\n",
      "  (0, 23315)\t0.06797537053253475\n",
      "  :\t:\n",
      "  (9224, 30134)\t0.18736860907103448\n",
      "  (9224, 29869)\t0.11154864863473889\n",
      "  (9224, 29045)\t0.1551045975410628\n",
      "  (9224, 28890)\t0.13042020869111753\n",
      "  (9224, 26256)\t0.06177594303917641\n",
      "  (9224, 24714)\t0.08895202909987297\n",
      "  (9224, 24628)\t0.14621502524898689\n",
      "  (9224, 24436)\t0.09985219687888862\n",
      "  (9224, 23772)\t0.3201290674043429\n",
      "  (9224, 23277)\t0.22426261454431898\n",
      "  (9224, 21646)\t0.1276445521297004\n",
      "  (9224, 20770)\t0.06612494799112115\n",
      "  (9224, 20578)\t0.07591988383255958\n",
      "  (9224, 19685)\t0.09382006427163314\n",
      "  (9224, 19464)\t0.10707600953162369\n",
      "  (9224, 18853)\t0.1949804598162332\n",
      "  (9224, 17550)\t0.08825836764535884\n",
      "  (9224, 17101)\t0.16238888934012677\n",
      "  (9224, 16440)\t0.1909200479915532\n",
      "  (9224, 14351)\t0.10480483943612712\n",
      "  (9224, 13241)\t0.27426988798522267\n",
      "  (9224, 12257)\t0.25625469942380713\n",
      "  (9224, 4928)\t0.12587056959883805\n",
      "  (9224, 3109)\t0.2677595604544768\n",
      "  (9224, 2337)\t0.5125093988476143\n"
     ]
    }
   ],
   "source": [
    "print(yelp_tfidf[:,:])"
   ]
  },
  {
   "cell_type": "code",
   "execution_count": 88,
   "id": "20f9ae3c-3e67-43f1-b609-9510852b7dbc",
   "metadata": {},
   "outputs": [
    {
     "data": {
      "text/plain": [
       "array([[ 101,  344],\n",
       "       [   1, 1399]], dtype=int64)"
      ]
     },
     "execution_count": 88,
     "metadata": {},
     "output_type": "execute_result"
    }
   ],
   "source": [
    "X= yelp_tfidf\n",
    "y= label\n",
    "\n",
    "from sklearn.model_selection import train_test_split\n",
    "X_train,X_test,y_train,y_test = train_test_split(X,y,test_size=0.2)\n",
    "\n",
    "\n",
    "from sklearn.naive_bayes import MultinomialNB\n",
    "NB_Classifier = MultinomialNB()\n",
    "NB_Classifier.fit(X_train,y_train)\n",
    "\n",
    "\n",
    "y_predict_test =NB_Classifier.predict(X_test)\n",
    "y_predict_test\n",
    "\n",
    "cm=confusion_matrix(y_test,y_predict_test)\n",
    "#sns.heatmap(cm,annot=True)\n",
    "cm"
   ]
  },
  {
   "cell_type": "code",
   "execution_count": 89,
   "id": "32949e0c-bfc5-4d03-b081-58a77307be83",
   "metadata": {},
   "outputs": [
    {
     "name": "stdout",
     "output_type": "stream",
     "text": [
      "              precision    recall  f1-score   support\n",
      "\n",
      "         1.0       0.99      0.23      0.37       445\n",
      "         5.0       0.80      1.00      0.89      1400\n",
      "\n",
      "    accuracy                           0.81      1845\n",
      "   macro avg       0.90      0.61      0.63      1845\n",
      "weighted avg       0.85      0.81      0.76      1845\n",
      "\n"
     ]
    }
   ],
   "source": [
    "print(classification_report(y_test,y_predict_test))"
   ]
  },
  {
   "cell_type": "code",
   "execution_count": null,
   "id": "c7b0ae41-2b5e-4dd5-97e0-978c146499d0",
   "metadata": {},
   "outputs": [],
   "source": []
  },
  {
   "cell_type": "code",
   "execution_count": null,
   "id": "09ec8df2-ffe0-4165-8309-b7c1dde78351",
   "metadata": {},
   "outputs": [],
   "source": []
  }
 ],
 "metadata": {
  "kernelspec": {
   "display_name": "Python 3 (ipykernel)",
   "language": "python",
   "name": "python3"
  },
  "language_info": {
   "codemirror_mode": {
    "name": "ipython",
    "version": 3
   },
   "file_extension": ".py",
   "mimetype": "text/x-python",
   "name": "python",
   "nbconvert_exporter": "python",
   "pygments_lexer": "ipython3",
   "version": "3.11.7"
  }
 },
 "nbformat": 4,
 "nbformat_minor": 5
}
